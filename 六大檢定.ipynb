{
  "nbformat": 4,
  "nbformat_minor": 0,
  "metadata": {
    "colab": {
      "name": "六大檢定.ipynb",
      "provenance": [],
      "collapsed_sections": [],
      "toc_visible": true,
      "mount_file_id": "1qB_mzRkiNn_gyd1BVDNmNW8KSke62Ag7",
      "authorship_tag": "ABX9TyM7ZmkoJorNXCKNXCOlJRKy",
      "include_colab_link": true
    },
    "kernelspec": {
      "name": "python3",
      "display_name": "Python 3"
    },
    "language_info": {
      "name": "python"
    }
  },
  "cells": [
    {
      "cell_type": "markdown",
      "metadata": {
        "id": "view-in-github",
        "colab_type": "text"
      },
      "source": [
        "<a href=\"https://colab.research.google.com/github/FintechClown/Quantitative-Methods-Econometrics-for-Finance/blob/main/%E5%85%AD%E5%A4%A7%E6%AA%A2%E5%AE%9A.ipynb\" target=\"_parent\"><img src=\"https://colab.research.google.com/assets/colab-badge.svg\" alt=\"Open In Colab\"/></a>"
      ]
    },
    {
      "cell_type": "markdown",
      "metadata": {
        "id": "1DHc7ENZXUA1"
      },
      "source": [
        "# 由NYSE、TWSE資料學習六大檢定"
      ]
    },
    {
      "cell_type": "markdown",
      "metadata": {
        "id": "A1wCNSfvkOcW"
      },
      "source": [
        "檢查套件版本"
      ]
    },
    {
      "cell_type": "code",
      "metadata": {
        "colab": {
          "base_uri": "https://localhost:8080/"
        },
        "id": "w-SQJcvSgRO2",
        "outputId": "f9a8113b-7fdb-4332-df5b-f799640ca2fb"
      },
      "source": [
        "!pip show scipy"
      ],
      "execution_count": 2,
      "outputs": [
        {
          "output_type": "stream",
          "text": [
            "Name: scipy\n",
            "Version: 1.4.1\n",
            "Summary: SciPy: Scientific Library for Python\n",
            "Home-page: https://www.scipy.org\n",
            "Author: None\n",
            "Author-email: None\n",
            "License: BSD\n",
            "Location: /usr/local/lib/python3.7/dist-packages\n",
            "Requires: numpy\n",
            "Required-by: yellowbrick, xgboost, umap-learn, Theano, statsmodels, sklearn-pandas, seaborn, scs, scikit-learn, scikit-image, resampy, qdldl, pynndescent, pymc3, plotnine, osqp, mlxtend, missingno, matplotlib-venn, lucid, lightgbm, librosa, Keras, jaxlib, imgaug, imbalanced-learn, hyperopt, gym, gensim, fastai, fancyimpute, fa2, ecos, cvxpy, albumentations\n"
          ],
          "name": "stdout"
        }
      ]
    },
    {
      "cell_type": "code",
      "metadata": {
        "colab": {
          "base_uri": "https://localhost:8080/"
        },
        "id": "OWEsvuLxgVIt",
        "outputId": "af0e0971-36c0-4201-d657-144f55465872"
      },
      "source": [
        "!pip install scipy -U"
      ],
      "execution_count": 3,
      "outputs": [
        {
          "output_type": "stream",
          "text": [
            "Collecting scipy\n",
            "\u001b[?25l  Downloading https://files.pythonhosted.org/packages/b6/3a/9e0649ab2d5ade703baa70ef980aa08739226e5d6a642f084bb201a92fc2/scipy-1.6.1-cp37-cp37m-manylinux1_x86_64.whl (27.4MB)\n",
            "\u001b[K     |████████████████████████████████| 27.4MB 140kB/s \n",
            "\u001b[?25hRequirement already satisfied, skipping upgrade: numpy>=1.16.5 in /usr/local/lib/python3.7/dist-packages (from scipy) (1.19.5)\n",
            "\u001b[31mERROR: albumentations 0.1.12 has requirement imgaug<0.2.7,>=0.2.5, but you'll have imgaug 0.2.9 which is incompatible.\u001b[0m\n",
            "Installing collected packages: scipy\n",
            "  Found existing installation: scipy 1.4.1\n",
            "    Uninstalling scipy-1.4.1:\n",
            "      Successfully uninstalled scipy-1.4.1\n",
            "Successfully installed scipy-1.6.1\n"
          ],
          "name": "stdout"
        }
      ]
    },
    {
      "cell_type": "markdown",
      "metadata": {
        "id": "LAyh53kbYVvd"
      },
      "source": [
        "## 匯入資料"
      ]
    },
    {
      "cell_type": "code",
      "metadata": {
        "id": "aLLr75cLYbOm"
      },
      "source": [
        "import pandas as pd"
      ],
      "execution_count": 4,
      "outputs": []
    },
    {
      "cell_type": "code",
      "metadata": {
        "id": "AKjI2H9mYpQP"
      },
      "source": [
        "import numpy as np"
      ],
      "execution_count": 5,
      "outputs": []
    },
    {
      "cell_type": "code",
      "metadata": {
        "id": "WXe27laJYrNF"
      },
      "source": [
        "from scipy import stats"
      ],
      "execution_count": 6,
      "outputs": []
    },
    {
      "cell_type": "code",
      "metadata": {
        "colab": {
          "base_uri": "https://localhost:8080/",
          "height": 297
        },
        "id": "au3o6Q-sYufF",
        "outputId": "f74cd7f3-2133-4c42-8e7a-78e4dce5fe39"
      },
      "source": [
        "nyse_df = pd.read_csv('/content/drive/MyDrive/Colab Notebooks/data/NYSE.csv')\n",
        "nyse_df.describe()"
      ],
      "execution_count": 7,
      "outputs": [
        {
          "output_type": "execute_result",
          "data": {
            "text/html": [
              "<div>\n",
              "<style scoped>\n",
              "    .dataframe tbody tr th:only-of-type {\n",
              "        vertical-align: middle;\n",
              "    }\n",
              "\n",
              "    .dataframe tbody tr th {\n",
              "        vertical-align: top;\n",
              "    }\n",
              "\n",
              "    .dataframe thead th {\n",
              "        text-align: right;\n",
              "    }\n",
              "</style>\n",
              "<table border=\"1\" class=\"dataframe\">\n",
              "  <thead>\n",
              "    <tr style=\"text-align: right;\">\n",
              "      <th></th>\n",
              "      <th>P/E ratio</th>\n",
              "    </tr>\n",
              "  </thead>\n",
              "  <tbody>\n",
              "    <tr>\n",
              "      <th>count</th>\n",
              "      <td>28.000000</td>\n",
              "    </tr>\n",
              "    <tr>\n",
              "      <th>mean</th>\n",
              "      <td>23.248214</td>\n",
              "    </tr>\n",
              "    <tr>\n",
              "      <th>std</th>\n",
              "      <td>9.493624</td>\n",
              "    </tr>\n",
              "    <tr>\n",
              "      <th>min</th>\n",
              "      <td>8.300000</td>\n",
              "    </tr>\n",
              "    <tr>\n",
              "      <th>25%</th>\n",
              "      <td>14.870000</td>\n",
              "    </tr>\n",
              "    <tr>\n",
              "      <th>50%</th>\n",
              "      <td>22.920000</td>\n",
              "    </tr>\n",
              "    <tr>\n",
              "      <th>75%</th>\n",
              "      <td>28.022500</td>\n",
              "    </tr>\n",
              "    <tr>\n",
              "      <th>max</th>\n",
              "      <td>49.780000</td>\n",
              "    </tr>\n",
              "  </tbody>\n",
              "</table>\n",
              "</div>"
            ],
            "text/plain": [
              "       P/E ratio\n",
              "count  28.000000\n",
              "mean   23.248214\n",
              "std     9.493624\n",
              "min     8.300000\n",
              "25%    14.870000\n",
              "50%    22.920000\n",
              "75%    28.022500\n",
              "max    49.780000"
            ]
          },
          "metadata": {
            "tags": []
          },
          "execution_count": 7
        }
      ]
    },
    {
      "cell_type": "code",
      "metadata": {
        "colab": {
          "base_uri": "https://localhost:8080/",
          "height": 297
        },
        "id": "Ru8Z4iW1ZFV9",
        "outputId": "ef976061-d270-40b5-da1c-a8e2f8c511ea"
      },
      "source": [
        "twse_df = pd.read_csv('/content/drive/MyDrive/Colab Notebooks/data/TWSE.csv')\n",
        "twse_df.describe()"
      ],
      "execution_count": 8,
      "outputs": [
        {
          "output_type": "execute_result",
          "data": {
            "text/html": [
              "<div>\n",
              "<style scoped>\n",
              "    .dataframe tbody tr th:only-of-type {\n",
              "        vertical-align: middle;\n",
              "    }\n",
              "\n",
              "    .dataframe tbody tr th {\n",
              "        vertical-align: top;\n",
              "    }\n",
              "\n",
              "    .dataframe thead th {\n",
              "        text-align: right;\n",
              "    }\n",
              "</style>\n",
              "<table border=\"1\" class=\"dataframe\">\n",
              "  <thead>\n",
              "    <tr style=\"text-align: right;\">\n",
              "      <th></th>\n",
              "      <th>P/E ratio</th>\n",
              "    </tr>\n",
              "  </thead>\n",
              "  <tbody>\n",
              "    <tr>\n",
              "      <th>count</th>\n",
              "      <td>50.000000</td>\n",
              "    </tr>\n",
              "    <tr>\n",
              "      <th>mean</th>\n",
              "      <td>16.947400</td>\n",
              "    </tr>\n",
              "    <tr>\n",
              "      <th>std</th>\n",
              "      <td>17.447043</td>\n",
              "    </tr>\n",
              "    <tr>\n",
              "      <th>min</th>\n",
              "      <td>3.330000</td>\n",
              "    </tr>\n",
              "    <tr>\n",
              "      <th>25%</th>\n",
              "      <td>10.395000</td>\n",
              "    </tr>\n",
              "    <tr>\n",
              "      <th>50%</th>\n",
              "      <td>12.535000</td>\n",
              "    </tr>\n",
              "    <tr>\n",
              "      <th>75%</th>\n",
              "      <td>18.255000</td>\n",
              "    </tr>\n",
              "    <tr>\n",
              "      <th>max</th>\n",
              "      <td>127.500000</td>\n",
              "    </tr>\n",
              "  </tbody>\n",
              "</table>\n",
              "</div>"
            ],
            "text/plain": [
              "        P/E ratio\n",
              "count   50.000000\n",
              "mean    16.947400\n",
              "std     17.447043\n",
              "min      3.330000\n",
              "25%     10.395000\n",
              "50%     12.535000\n",
              "75%     18.255000\n",
              "max    127.500000"
            ]
          },
          "metadata": {
            "tags": []
          },
          "execution_count": 8
        }
      ]
    },
    {
      "cell_type": "code",
      "metadata": {
        "colab": {
          "base_uri": "https://localhost:8080/",
          "height": 1000
        },
        "id": "xMQOcwFvNHHY",
        "outputId": "34db0414-b7ab-4521-fc8d-6f3a89b141fe"
      },
      "source": [
        "df = pd.concat([twse_df,nyse_df],axis=1)\n",
        "df"
      ],
      "execution_count": 9,
      "outputs": [
        {
          "output_type": "execute_result",
          "data": {
            "text/html": [
              "<div>\n",
              "<style scoped>\n",
              "    .dataframe tbody tr th:only-of-type {\n",
              "        vertical-align: middle;\n",
              "    }\n",
              "\n",
              "    .dataframe tbody tr th {\n",
              "        vertical-align: top;\n",
              "    }\n",
              "\n",
              "    .dataframe thead th {\n",
              "        text-align: right;\n",
              "    }\n",
              "</style>\n",
              "<table border=\"1\" class=\"dataframe\">\n",
              "  <thead>\n",
              "    <tr style=\"text-align: right;\">\n",
              "      <th></th>\n",
              "      <th>P/E ratio</th>\n",
              "      <th>P/E ratio</th>\n",
              "    </tr>\n",
              "  </thead>\n",
              "  <tbody>\n",
              "    <tr>\n",
              "      <th>0</th>\n",
              "      <td>15.13</td>\n",
              "      <td>27.96</td>\n",
              "    </tr>\n",
              "    <tr>\n",
              "      <th>1</th>\n",
              "      <td>13.48</td>\n",
              "      <td>22.90</td>\n",
              "    </tr>\n",
              "    <tr>\n",
              "      <th>2</th>\n",
              "      <td>23.74</td>\n",
              "      <td>8.30</td>\n",
              "    </tr>\n",
              "    <tr>\n",
              "      <th>3</th>\n",
              "      <td>22.40</td>\n",
              "      <td>49.78</td>\n",
              "    </tr>\n",
              "    <tr>\n",
              "      <th>4</th>\n",
              "      <td>15.45</td>\n",
              "      <td>24.68</td>\n",
              "    </tr>\n",
              "    <tr>\n",
              "      <th>5</th>\n",
              "      <td>28.03</td>\n",
              "      <td>14.55</td>\n",
              "    </tr>\n",
              "    <tr>\n",
              "      <th>6</th>\n",
              "      <td>14.14</td>\n",
              "      <td>28.22</td>\n",
              "    </tr>\n",
              "    <tr>\n",
              "      <th>7</th>\n",
              "      <td>34.98</td>\n",
              "      <td>28.21</td>\n",
              "    </tr>\n",
              "    <tr>\n",
              "      <th>8</th>\n",
              "      <td>14.18</td>\n",
              "      <td>34.71</td>\n",
              "    </tr>\n",
              "    <tr>\n",
              "      <th>9</th>\n",
              "      <td>12.58</td>\n",
              "      <td>12.99</td>\n",
              "    </tr>\n",
              "    <tr>\n",
              "      <th>10</th>\n",
              "      <td>20.89</td>\n",
              "      <td>21.89</td>\n",
              "    </tr>\n",
              "    <tr>\n",
              "      <th>11</th>\n",
              "      <td>13.38</td>\n",
              "      <td>9.86</td>\n",
              "    </tr>\n",
              "    <tr>\n",
              "      <th>12</th>\n",
              "      <td>12.74</td>\n",
              "      <td>20.26</td>\n",
              "    </tr>\n",
              "    <tr>\n",
              "      <th>13</th>\n",
              "      <td>10.33</td>\n",
              "      <td>23.36</td>\n",
              "    </tr>\n",
              "    <tr>\n",
              "      <th>14</th>\n",
              "      <td>21.92</td>\n",
              "      <td>36.02</td>\n",
              "    </tr>\n",
              "    <tr>\n",
              "      <th>15</th>\n",
              "      <td>12.24</td>\n",
              "      <td>22.94</td>\n",
              "    </tr>\n",
              "    <tr>\n",
              "      <th>16</th>\n",
              "      <td>8.93</td>\n",
              "      <td>12.10</td>\n",
              "    </tr>\n",
              "    <tr>\n",
              "      <th>17</th>\n",
              "      <td>11.45</td>\n",
              "      <td>22.43</td>\n",
              "    </tr>\n",
              "    <tr>\n",
              "      <th>18</th>\n",
              "      <td>11.53</td>\n",
              "      <td>22.13</td>\n",
              "    </tr>\n",
              "    <tr>\n",
              "      <th>19</th>\n",
              "      <td>8.73</td>\n",
              "      <td>16.48</td>\n",
              "    </tr>\n",
              "    <tr>\n",
              "      <th>20</th>\n",
              "      <td>11.68</td>\n",
              "      <td>33.75</td>\n",
              "    </tr>\n",
              "    <tr>\n",
              "      <th>21</th>\n",
              "      <td>12.56</td>\n",
              "      <td>26.05</td>\n",
              "    </tr>\n",
              "    <tr>\n",
              "      <th>22</th>\n",
              "      <td>28.45</td>\n",
              "      <td>12.21</td>\n",
              "    </tr>\n",
              "    <tr>\n",
              "      <th>23</th>\n",
              "      <td>3.63</td>\n",
              "      <td>24.49</td>\n",
              "    </tr>\n",
              "    <tr>\n",
              "      <th>24</th>\n",
              "      <td>4.08</td>\n",
              "      <td>14.87</td>\n",
              "    </tr>\n",
              "    <tr>\n",
              "      <th>25</th>\n",
              "      <td>19.53</td>\n",
              "      <td>14.87</td>\n",
              "    </tr>\n",
              "    <tr>\n",
              "      <th>26</th>\n",
              "      <td>12.09</td>\n",
              "      <td>27.84</td>\n",
              "    </tr>\n",
              "    <tr>\n",
              "      <th>27</th>\n",
              "      <td>12.31</td>\n",
              "      <td>37.10</td>\n",
              "    </tr>\n",
              "    <tr>\n",
              "      <th>28</th>\n",
              "      <td>12.32</td>\n",
              "      <td>NaN</td>\n",
              "    </tr>\n",
              "    <tr>\n",
              "      <th>29</th>\n",
              "      <td>10.36</td>\n",
              "      <td>NaN</td>\n",
              "    </tr>\n",
              "    <tr>\n",
              "      <th>30</th>\n",
              "      <td>7.43</td>\n",
              "      <td>NaN</td>\n",
              "    </tr>\n",
              "    <tr>\n",
              "      <th>31</th>\n",
              "      <td>10.07</td>\n",
              "      <td>NaN</td>\n",
              "    </tr>\n",
              "    <tr>\n",
              "      <th>32</th>\n",
              "      <td>11.91</td>\n",
              "      <td>NaN</td>\n",
              "    </tr>\n",
              "    <tr>\n",
              "      <th>33</th>\n",
              "      <td>12.47</td>\n",
              "      <td>NaN</td>\n",
              "    </tr>\n",
              "    <tr>\n",
              "      <th>34</th>\n",
              "      <td>11.23</td>\n",
              "      <td>NaN</td>\n",
              "    </tr>\n",
              "    <tr>\n",
              "      <th>35</th>\n",
              "      <td>9.60</td>\n",
              "      <td>NaN</td>\n",
              "    </tr>\n",
              "    <tr>\n",
              "      <th>36</th>\n",
              "      <td>127.50</td>\n",
              "      <td>NaN</td>\n",
              "    </tr>\n",
              "    <tr>\n",
              "      <th>37</th>\n",
              "      <td>8.42</td>\n",
              "      <td>NaN</td>\n",
              "    </tr>\n",
              "    <tr>\n",
              "      <th>38</th>\n",
              "      <td>9.68</td>\n",
              "      <td>NaN</td>\n",
              "    </tr>\n",
              "    <tr>\n",
              "      <th>39</th>\n",
              "      <td>10.50</td>\n",
              "      <td>NaN</td>\n",
              "    </tr>\n",
              "    <tr>\n",
              "      <th>40</th>\n",
              "      <td>27.50</td>\n",
              "      <td>NaN</td>\n",
              "    </tr>\n",
              "    <tr>\n",
              "      <th>41</th>\n",
              "      <td>16.62</td>\n",
              "      <td>NaN</td>\n",
              "    </tr>\n",
              "    <tr>\n",
              "      <th>42</th>\n",
              "      <td>18.64</td>\n",
              "      <td>NaN</td>\n",
              "    </tr>\n",
              "    <tr>\n",
              "      <th>43</th>\n",
              "      <td>3.33</td>\n",
              "      <td>NaN</td>\n",
              "    </tr>\n",
              "    <tr>\n",
              "      <th>44</th>\n",
              "      <td>20.77</td>\n",
              "      <td>NaN</td>\n",
              "    </tr>\n",
              "    <tr>\n",
              "      <th>45</th>\n",
              "      <td>9.95</td>\n",
              "      <td>NaN</td>\n",
              "    </tr>\n",
              "    <tr>\n",
              "      <th>46</th>\n",
              "      <td>13.99</td>\n",
              "      <td>NaN</td>\n",
              "    </tr>\n",
              "    <tr>\n",
              "      <th>47</th>\n",
              "      <td>34.89</td>\n",
              "      <td>NaN</td>\n",
              "    </tr>\n",
              "    <tr>\n",
              "      <th>48</th>\n",
              "      <td>12.51</td>\n",
              "      <td>NaN</td>\n",
              "    </tr>\n",
              "    <tr>\n",
              "      <th>49</th>\n",
              "      <td>17.10</td>\n",
              "      <td>NaN</td>\n",
              "    </tr>\n",
              "  </tbody>\n",
              "</table>\n",
              "</div>"
            ],
            "text/plain": [
              "    P/E ratio  P/E ratio\n",
              "0       15.13      27.96\n",
              "1       13.48      22.90\n",
              "2       23.74       8.30\n",
              "3       22.40      49.78\n",
              "4       15.45      24.68\n",
              "5       28.03      14.55\n",
              "6       14.14      28.22\n",
              "7       34.98      28.21\n",
              "8       14.18      34.71\n",
              "9       12.58      12.99\n",
              "10      20.89      21.89\n",
              "11      13.38       9.86\n",
              "12      12.74      20.26\n",
              "13      10.33      23.36\n",
              "14      21.92      36.02\n",
              "15      12.24      22.94\n",
              "16       8.93      12.10\n",
              "17      11.45      22.43\n",
              "18      11.53      22.13\n",
              "19       8.73      16.48\n",
              "20      11.68      33.75\n",
              "21      12.56      26.05\n",
              "22      28.45      12.21\n",
              "23       3.63      24.49\n",
              "24       4.08      14.87\n",
              "25      19.53      14.87\n",
              "26      12.09      27.84\n",
              "27      12.31      37.10\n",
              "28      12.32        NaN\n",
              "29      10.36        NaN\n",
              "30       7.43        NaN\n",
              "31      10.07        NaN\n",
              "32      11.91        NaN\n",
              "33      12.47        NaN\n",
              "34      11.23        NaN\n",
              "35       9.60        NaN\n",
              "36     127.50        NaN\n",
              "37       8.42        NaN\n",
              "38       9.68        NaN\n",
              "39      10.50        NaN\n",
              "40      27.50        NaN\n",
              "41      16.62        NaN\n",
              "42      18.64        NaN\n",
              "43       3.33        NaN\n",
              "44      20.77        NaN\n",
              "45       9.95        NaN\n",
              "46      13.99        NaN\n",
              "47      34.89        NaN\n",
              "48      12.51        NaN\n",
              "49      17.10        NaN"
            ]
          },
          "metadata": {
            "tags": []
          },
          "execution_count": 9
        }
      ]
    },
    {
      "cell_type": "markdown",
      "metadata": {
        "id": "c4ALvEDbXhZF"
      },
      "source": [
        "## 範例一: 單母體平均數檢定(雙尾)"
      ]
    },
    {
      "cell_type": "markdown",
      "metadata": {
        "id": "QWynE0DUZn5V"
      },
      "source": [
        "### 假設檢定五大步驟"
      ]
    },
    {
      "cell_type": "markdown",
      "metadata": {
        "id": "vMPKZuNEZsmW"
      },
      "source": [
        "#### 步驟一: 設立虛無假說\n",
        "$ H_0:\\mu = 10$\n",
        "\n",
        "$ H_1:\\mu \\neq 10$\n",
        "\n",
        "$\\alpha = 0.05$"
      ]
    },
    {
      "cell_type": "markdown",
      "metadata": {
        "id": "c5pJ73JUZEcB"
      },
      "source": [
        "#### 步驟二: 選定檢定統計量\n",
        "$t = \\frac{\\bar{x}-10}{\\frac{S}{\\sqrt n}}\\sim t_{(49)} $ "
      ]
    },
    {
      "cell_type": "markdown",
      "metadata": {
        "id": "G7tTpfMBeGyV"
      },
      "source": [
        "#### 步驟三: 設立拒絕域\n",
        "$ R = \\{ t\\mid|t|>t_{0.025}\\}$"
      ]
    },
    {
      "cell_type": "markdown",
      "metadata": {
        "id": "J11fMuCTeVM8"
      },
      "source": [
        "#### 步驟四: 計算"
      ]
    },
    {
      "cell_type": "code",
      "metadata": {
        "colab": {
          "base_uri": "https://localhost:8080/"
        },
        "id": "qAkiEcXKf8xL",
        "outputId": "329271e5-f69b-4a93-c4fd-e9d06cdf65c4"
      },
      "source": [
        "stats.ttest_1samp(twse_df,10,alternative='two-sided')"
      ],
      "execution_count": 10,
      "outputs": [
        {
          "output_type": "execute_result",
          "data": {
            "text/plain": [
              "Ttest_1sampResult(statistic=array([2.81569405]), pvalue=array([0.00699273]))"
            ]
          },
          "metadata": {
            "tags": []
          },
          "execution_count": 10
        }
      ]
    },
    {
      "cell_type": "markdown",
      "metadata": {
        "id": "3_M5v0chgOgV"
      },
      "source": [
        "#### 步驟五: 結論"
      ]
    },
    {
      "cell_type": "markdown",
      "metadata": {
        "id": "ILC5sOWhiQ5k"
      },
      "source": [
        "$p\\space value = 0.007$\n",
        "\n",
        "$\\alpha = 0.05$\n",
        "\n",
        "$p\\space value < \\frac{\\alpha}{2}$\n",
        "\n",
        "Reject null hypothesis\n",
        "\n",
        "$\\rightarrow$在0.05的顯著水準下，TWSE的本益比平均值不為10"
      ]
    },
    {
      "cell_type": "markdown",
      "metadata": {
        "id": "a7kUUCM7jjRU"
      },
      "source": [
        "## 範例二: 單母體變異數檢定(雙尾)"
      ]
    },
    {
      "cell_type": "markdown",
      "metadata": {
        "id": "FIPTFYXZkEB0"
      },
      "source": [
        "### 假設檢定五大步驟"
      ]
    },
    {
      "cell_type": "markdown",
      "metadata": {
        "id": "LieOdRQ2kcNb"
      },
      "source": [
        "#### 步驟一: 設立虛無假說\n"
      ]
    },
    {
      "cell_type": "markdown",
      "metadata": {
        "id": "h9YEM2rOknLD"
      },
      "source": [
        "$H_0:\\sigma^2 = 300$\n",
        "\n",
        "$H_1:\\sigma^2 \\neq 300$\n",
        "\n",
        "$\\alpha = 0.05$"
      ]
    },
    {
      "cell_type": "markdown",
      "metadata": {
        "id": "ZqIBlXOElH2e"
      },
      "source": [
        "####步驟二: 選定檢定統計量\n",
        "$\\chi^2 = (n-1)\\frac{S^2}{\\sigma^2} \\sim \\chi^2_{(n-1)}$"
      ]
    },
    {
      "cell_type": "markdown",
      "metadata": {
        "id": "jz8ZTxSZljVd"
      },
      "source": [
        "#### 步驟三: 設立拒絕域\n",
        "$R = \\{ \\chi^2 \\mid \\chi^2 < \\chi^2_{0.975} \\space or \\space \\chi^2 > \\chi^2_{0.025} \\}$"
      ]
    },
    {
      "cell_type": "markdown",
      "metadata": {
        "id": "ePciYuK4nnDN"
      },
      "source": [
        "#### 步驟四: 計算"
      ]
    },
    {
      "cell_type": "code",
      "metadata": {
        "colab": {
          "base_uri": "https://localhost:8080/"
        },
        "id": "9Vf1kqHaq-52",
        "outputId": "12b87ea9-b92d-47f1-e181-8d2e87a3c4a9"
      },
      "source": [
        "var = np.var(twse_df,ddof=1)\n",
        "var"
      ],
      "execution_count": 11,
      "outputs": [
        {
          "output_type": "execute_result",
          "data": {
            "text/plain": [
              "P/E ratio    304.399326\n",
              "dtype: float64"
            ]
          },
          "metadata": {
            "tags": []
          },
          "execution_count": 11
        }
      ]
    },
    {
      "cell_type": "code",
      "metadata": {
        "colab": {
          "base_uri": "https://localhost:8080/"
        },
        "id": "I0OWL4EGtFqS",
        "outputId": "96d6a7d8-f7ae-4c65-eae1-c49a04fd6efc"
      },
      "source": [
        "chi_square = (50-1)*var/300\n",
        "chi_square"
      ],
      "execution_count": 12,
      "outputs": [
        {
          "output_type": "execute_result",
          "data": {
            "text/plain": [
              "P/E ratio    49.718557\n",
              "dtype: float64"
            ]
          },
          "metadata": {
            "tags": []
          },
          "execution_count": 12
        }
      ]
    },
    {
      "cell_type": "code",
      "metadata": {
        "colab": {
          "base_uri": "https://localhost:8080/"
        },
        "id": "J-dpyCZQs8iV",
        "outputId": "b9e1c6fd-fd1e-4a1f-fea8-50695f05022c"
      },
      "source": [
        "stats.chi2.cdf(x=chi_square,df = 49)"
      ],
      "execution_count": 13,
      "outputs": [
        {
          "output_type": "execute_result",
          "data": {
            "text/plain": [
              "array([0.55549626])"
            ]
          },
          "metadata": {
            "tags": []
          },
          "execution_count": 13
        }
      ]
    },
    {
      "cell_type": "markdown",
      "metadata": {
        "id": "CKP9EDWwvsmb"
      },
      "source": [
        "#### 步驟五: 結論\n",
        "$p\\space value>\\frac{\\alpha}{2}$\n",
        "\n",
        "Do not reject null hypothesis\n",
        "\n",
        "$\\rightarrow$在0.05的顯著水準下，TWSE的變異數為300"
      ]
    },
    {
      "cell_type": "markdown",
      "metadata": {
        "id": "k2MkMAk9V1Gf"
      },
      "source": [
        "## 範例三: 單母體比例檢定(右尾)"
      ]
    },
    {
      "cell_type": "markdown",
      "metadata": {
        "id": "sunpxMwcWJbd"
      },
      "source": [
        "###假設檢定五大步驟"
      ]
    },
    {
      "cell_type": "markdown",
      "metadata": {
        "id": "fABICOcyWNjt"
      },
      "source": [
        "#### 步驟一: 設立虛無假說\n",
        "假設本益比大於20的比例大於0.6\n",
        "\n",
        "$H_0:p\\leq0.6$\n",
        "\n",
        "$H_1:p>0.6$\n",
        "\n",
        "$\\alpha = 0.05$"
      ]
    },
    {
      "cell_type": "markdown",
      "metadata": {
        "id": "b3AcLIkAWRJz"
      },
      "source": [
        "####步驟二: 選定檢定統計量\n",
        "$Z = \\frac{\\hat{p}-p_0}{\\sigma_\\hat{p}}$\n",
        "\n",
        "$\\sigma_\\hat{p} = \\sqrt{\\frac{p_0q_0}{n}}$"
      ]
    },
    {
      "cell_type": "markdown",
      "metadata": {
        "id": "9dCmJtRSXxHd"
      },
      "source": [
        "#### 步驟三: 設立拒絕域\n",
        "$R = \\{Z\\mid Z>Z_{0.05} \\}$"
      ]
    },
    {
      "cell_type": "markdown",
      "metadata": {
        "id": "C91IQ7ybYntl"
      },
      "source": [
        "####步驟四: 計算"
      ]
    },
    {
      "cell_type": "code",
      "metadata": {
        "colab": {
          "base_uri": "https://localhost:8080/"
        },
        "id": "dg8Os4wYYrgv",
        "outputId": "1714eb35-0eda-4fe7-fe59-ede52813e24d"
      },
      "source": [
        "p = 0.6\n",
        "q = 1-p\n",
        "sigma_ph = np.sqrt(p*q/twse_df.size)\n",
        "p,q,sigma_ph"
      ],
      "execution_count": 14,
      "outputs": [
        {
          "output_type": "execute_result",
          "data": {
            "text/plain": [
              "(0.6, 0.4, 0.06928203230275509)"
            ]
          },
          "metadata": {
            "tags": []
          },
          "execution_count": 14
        }
      ]
    },
    {
      "cell_type": "code",
      "metadata": {
        "colab": {
          "base_uri": "https://localhost:8080/"
        },
        "id": "cvzaiTxxZPIe",
        "outputId": "0125a4a7-2a71-4b35-9a63-d679750a8631"
      },
      "source": [
        "twse_df[twse_df['P/E ratio']>20].size"
      ],
      "execution_count": 15,
      "outputs": [
        {
          "output_type": "execute_result",
          "data": {
            "text/plain": [
              "11"
            ]
          },
          "metadata": {
            "tags": []
          },
          "execution_count": 15
        }
      ]
    },
    {
      "cell_type": "code",
      "metadata": {
        "colab": {
          "base_uri": "https://localhost:8080/"
        },
        "id": "_7z4TgXSawxW",
        "outputId": "96c784a6-ec7a-4d08-927c-30653c3186ba"
      },
      "source": [
        "z= ((11/50)-p)/sigma_ph\n",
        "z"
      ],
      "execution_count": 16,
      "outputs": [
        {
          "output_type": "execute_result",
          "data": {
            "text/plain": [
              "-5.484827557301445"
            ]
          },
          "metadata": {
            "tags": []
          },
          "execution_count": 16
        }
      ]
    },
    {
      "cell_type": "markdown",
      "metadata": {
        "id": "CAeHN-wNatDR"
      },
      "source": [
        "#### 步驟五: 結論\n",
        "在顯著水準$\\alpha = 0.05$下，不拒絕虛無假說\n",
        "\n",
        "本益比大於20的比例$\\leq$0.6\n",
        "\n"
      ]
    },
    {
      "cell_type": "markdown",
      "metadata": {
        "id": "DjxJgLe9Zw2F"
      },
      "source": [
        "##範例四: 雙母體平均值檢定(雙尾)"
      ]
    },
    {
      "cell_type": "markdown",
      "metadata": {
        "id": "RLQmnwQsmq-k"
      },
      "source": [
        "### 假設檢定五大步驟"
      ]
    },
    {
      "cell_type": "markdown",
      "metadata": {
        "id": "hb3nmqTkmuQa"
      },
      "source": [
        "#### 步驟一:設立虛無假說\n",
        "假設NYSE的本益比跟TWSE的本益比平均值有差異\n",
        "\n",
        "$H_0:\\mu_1 = \\mu_2$\n",
        "\n",
        "$H_0:\\mu_1 \\neq \\mu_2$\n",
        "\n",
        "$\\alpha = 0.05$"
      ]
    },
    {
      "cell_type": "markdown",
      "metadata": {
        "id": "AJSSNQ4O4PmZ"
      },
      "source": [
        "####步驟二: 選定檢定統計量\n",
        "$t = \\frac{\\bar{x_1}-\\bar{x_2}}{\\sqrt{ S_p^2(\\frac{1}{n_1}+\\frac{1}{n_2})}} \\sim t_{(n_1+n_2-2)}$"
      ]
    },
    {
      "cell_type": "markdown",
      "metadata": {
        "id": "Y6Ro64tL5aHH"
      },
      "source": [
        "####步驟三: 設立拒絕域\n",
        "$R = \\{ |t|\\mid t>t_{0.025} \\}$"
      ]
    },
    {
      "cell_type": "markdown",
      "metadata": {
        "id": "doVRPOs4v-7V"
      },
      "source": [
        "####步驟四: 計算"
      ]
    },
    {
      "cell_type": "code",
      "metadata": {
        "id": "fLLbvgygwDOk",
        "colab": {
          "base_uri": "https://localhost:8080/"
        },
        "outputId": "57686425-24a4-4e90-f7e1-460d4172902c"
      },
      "source": [
        "stats.ttest_ind(nyse_df,twse_df,equal_var= True,alternative='two-sided')"
      ],
      "execution_count": 17,
      "outputs": [
        {
          "output_type": "execute_result",
          "data": {
            "text/plain": [
              "Ttest_indResult(statistic=array([1.76677961]), pvalue=array([0.0812801]))"
            ]
          },
          "metadata": {
            "tags": []
          },
          "execution_count": 17
        }
      ]
    },
    {
      "cell_type": "markdown",
      "metadata": {
        "id": "gvOJY94nnwON"
      },
      "source": [
        "####步驟五: 結論\n",
        "在顯著水準$\\alpha = 0.05$下，不拒絕虛無假說\n",
        "NYSE本益比跟TWSE本益比平均數無異"
      ]
    },
    {
      "cell_type": "markdown",
      "metadata": {
        "id": "OXQyNunbntK_"
      },
      "source": [
        "##範例五: 雙母體變異數檢定"
      ]
    },
    {
      "cell_type": "markdown",
      "metadata": {
        "id": "2BZjFwk3m1tp"
      },
      "source": [
        "###假設檢定五大步驟"
      ]
    },
    {
      "cell_type": "markdown",
      "metadata": {
        "id": "idbxhIOwIyRZ"
      },
      "source": [
        "####步驟一: 設立虛無假說\n",
        "$H_0:\\sigma^2_1 = \\sigma^2_2$\n",
        "\n",
        "$H_1:\\sigma^2_1 \\neq \\sigma^2_2$\n",
        "\n",
        "$\\alpha = 0.05$"
      ]
    },
    {
      "cell_type": "markdown",
      "metadata": {
        "id": "uGgNOAT3JHfu"
      },
      "source": [
        "####步驟二: 選定檢定統計量\n",
        "$F = \\frac{\\sigma^2_1}{\\sigma^2_2}\\sim F_{(n_1-1,n_2-1)} $"
      ]
    },
    {
      "cell_type": "markdown",
      "metadata": {
        "id": "-i3Roe19JmVf"
      },
      "source": [
        "####步驟三: 設立拒絕域\n",
        "$R=\\{ F \\mid F<F_{0.975} \\space or \\space F>F_{0.025}\\}$"
      ]
    },
    {
      "cell_type": "markdown",
      "metadata": {
        "id": "hAVDm_j1Kon5"
      },
      "source": [
        "####步驟四: 計算"
      ]
    },
    {
      "cell_type": "markdown",
      "metadata": {
        "id": "8nnRyXG_UtAR"
      },
      "source": [
        "CDF:用統計量推P-value\n",
        "\n",
        "PPF:用p-value推統計量"
      ]
    },
    {
      "cell_type": "code",
      "metadata": {
        "colab": {
          "base_uri": "https://localhost:8080/"
        },
        "id": "F-9qi41SKrMm",
        "outputId": "3ba04e0e-987d-4ca2-c829-5c0c7e69d2ac"
      },
      "source": [
        "fc_l = stats.f.ppf(0.025,twse_df.size-1,nyse_df.size-1)\n",
        "fc_r = stats.f.ppf(0.975,twse_df.size-1,nyse_df.size-1)\n",
        "fc_l,fc_r #臨界值"
      ],
      "execution_count": 18,
      "outputs": [
        {
          "output_type": "execute_result",
          "data": {
            "text/plain": [
              "(0.5258559428664646, 2.0325903323903156)"
            ]
          },
          "metadata": {
            "tags": []
          },
          "execution_count": 18
        }
      ]
    },
    {
      "cell_type": "markdown",
      "metadata": {
        "id": "AeD5MAuhQ3eM"
      },
      "source": [
        "![ppf_explain.png](data:image/png;base64,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)\n",
        "\n",
        "source: http://eric.univ-lyon2.fr/~ricco/tanagra/fichiers/en_Tanagra_Calcul_P_Value.pdf"
      ]
    },
    {
      "cell_type": "code",
      "metadata": {
        "colab": {
          "base_uri": "https://localhost:8080/"
        },
        "id": "Y7knIHCXLFwn",
        "outputId": "3cf5003c-b44c-45ef-916c-793e37040df0"
      },
      "source": [
        "twse_var = np.var(twse_df,ddof=1)\n",
        "nyse_var = np.var(nyse_df,ddof=1)\n",
        "twse_var,nyse_var"
      ],
      "execution_count": 19,
      "outputs": [
        {
          "output_type": "execute_result",
          "data": {
            "text/plain": [
              "(P/E ratio    304.399326\n",
              " dtype: float64, P/E ratio    90.128897\n",
              " dtype: float64)"
            ]
          },
          "metadata": {
            "tags": []
          },
          "execution_count": 19
        }
      ]
    },
    {
      "cell_type": "code",
      "metadata": {
        "colab": {
          "base_uri": "https://localhost:8080/"
        },
        "id": "r7PHSCcuLWOg",
        "outputId": "55b0684b-a10d-4663-d835-4a00f7d646be"
      },
      "source": [
        "f = twse_var/nyse_var\n",
        "f"
      ],
      "execution_count": 20,
      "outputs": [
        {
          "output_type": "execute_result",
          "data": {
            "text/plain": [
              "P/E ratio    3.377378\n",
              "dtype: float64"
            ]
          },
          "metadata": {
            "tags": []
          },
          "execution_count": 20
        }
      ]
    },
    {
      "cell_type": "markdown",
      "metadata": {
        "id": "qU0r3mU4Ljq2"
      },
      "source": [
        "####步驟五: 結論\n",
        "在$\\alpha = 0.05$顯著水準下，拒絕虛無假說\n",
        "\n",
        "twse的本益比變異數與nyse的本益比變異數有顯著差異"
      ]
    },
    {
      "cell_type": "markdown",
      "metadata": {
        "id": "YSYxi2coVYfA"
      },
      "source": [
        "##範例六:雙母體比例檢定(右尾)"
      ]
    },
    {
      "cell_type": "markdown",
      "metadata": {
        "id": "pIKH7MhcVdSZ"
      },
      "source": [
        "###假設檢定五大步驟\n",
        "檢驗TWSE中本益比大於20的比例是否大於NYSE?"
      ]
    },
    {
      "cell_type": "code",
      "metadata": {
        "id": "tgsQ3Qd5khTv"
      },
      "source": [
        "a = 20"
      ],
      "execution_count": 21,
      "outputs": []
    },
    {
      "cell_type": "markdown",
      "metadata": {
        "id": "32mXxbRYVgWm"
      },
      "source": [
        "####步驟一: 設立虛無假說\n",
        "$H_0:p_1 \\leq p_2$\n",
        "\n",
        "$H_1:p_1 > p_2$\n",
        "\n",
        "$\\alpha = 0.05$"
      ]
    },
    {
      "cell_type": "markdown",
      "metadata": {
        "id": "pybzHuXbZIUP"
      },
      "source": [
        "####步驟二: 選定檢定統計量\n",
        "$Z = \\frac{(\\hat{p_1}-\\hat{p_2})-(p_1-p_2)}{S_{\\hat{p_1}-\\hat{p_2}}} \\sim Z$"
      ]
    },
    {
      "cell_type": "markdown",
      "metadata": {
        "id": "UK90vVxYaj7B"
      },
      "source": [
        "####步驟三: 設立拒絕域\n",
        "$R = \\{Z\\mid Z>Z_{0.05}\\}$"
      ]
    },
    {
      "cell_type": "markdown",
      "metadata": {
        "id": "05B227Edbrg8"
      },
      "source": [
        "####步驟四:計算"
      ]
    },
    {
      "cell_type": "code",
      "metadata": {
        "id": "o_-XsoNCatfP"
      },
      "source": [
        "n1 = twse_df.size\n",
        "n2 = nyse_df.size"
      ],
      "execution_count": 22,
      "outputs": []
    },
    {
      "cell_type": "code",
      "metadata": {
        "colab": {
          "base_uri": "https://localhost:8080/"
        },
        "id": "swo31J3Sc07L",
        "outputId": "2e63e845-0a44-4b3d-89c5-a4343ccf18ce"
      },
      "source": [
        "twse_df[twse_df['P/E ratio']>a].size"
      ],
      "execution_count": 23,
      "outputs": [
        {
          "output_type": "execute_result",
          "data": {
            "text/plain": [
              "11"
            ]
          },
          "metadata": {
            "tags": []
          },
          "execution_count": 23
        }
      ]
    },
    {
      "cell_type": "code",
      "metadata": {
        "colab": {
          "base_uri": "https://localhost:8080/"
        },
        "id": "8BtrUrS_dL-V",
        "outputId": "5a64f8ec-ad5a-4d97-ba7c-f7d3c2b86152"
      },
      "source": [
        "nyse_df[nyse_df['P/E ratio']>a].size"
      ],
      "execution_count": 24,
      "outputs": [
        {
          "output_type": "execute_result",
          "data": {
            "text/plain": [
              "19"
            ]
          },
          "metadata": {
            "tags": []
          },
          "execution_count": 24
        }
      ]
    },
    {
      "cell_type": "code",
      "metadata": {
        "colab": {
          "base_uri": "https://localhost:8080/"
        },
        "id": "567QjTMedIav",
        "outputId": "bdee9afc-4b90-4eff-c688-0ecfdc62bd56"
      },
      "source": [
        "p1_hat = twse_df[twse_df['P/E ratio']>a].size/n1\n",
        "p2_hat = nyse_df[nyse_df['P/E ratio']>a].size/n2\n",
        "p1_hat,p2_hat"
      ],
      "execution_count": 25,
      "outputs": [
        {
          "output_type": "execute_result",
          "data": {
            "text/plain": [
              "(0.22, 0.6785714285714286)"
            ]
          },
          "metadata": {
            "tags": []
          },
          "execution_count": 25
        }
      ]
    },
    {
      "cell_type": "code",
      "metadata": {
        "colab": {
          "base_uri": "https://localhost:8080/"
        },
        "id": "xBNSUEUadDUe",
        "outputId": "920fff72-b858-41a1-b6d4-d45ba605548a"
      },
      "source": [
        "p_hat = (twse_df[twse_df['P/E ratio']>a].size+nyse_df[nyse_df['P/E ratio']>a].size)/(n1+n2)\n",
        "p_hat #組合比例"
      ],
      "execution_count": 26,
      "outputs": [
        {
          "output_type": "execute_result",
          "data": {
            "text/plain": [
              "0.38461538461538464"
            ]
          },
          "metadata": {
            "tags": []
          },
          "execution_count": 26
        }
      ]
    },
    {
      "cell_type": "markdown",
      "metadata": {
        "id": "i1eGslpYerGO"
      },
      "source": [
        "$\\hat{p}=\\frac{n1\\times\\hat{p1}+n2\\times\\hat{p2}}{n1+n2}=\\frac{x_1+x_2}{n_1+n_2\n",
        "}$"
      ]
    },
    {
      "cell_type": "code",
      "metadata": {
        "colab": {
          "base_uri": "https://localhost:8080/"
        },
        "id": "FCpmVpDTeSGx",
        "outputId": "4b33ca72-10be-415c-b999-0cbe012f2719"
      },
      "source": [
        "sigma_p_hat= np.sqrt(p_hat*(1-p_hat)*((1/n1)+(1/n2)))\n",
        "sigma_p_hat"
      ],
      "execution_count": 27,
      "outputs": [
        {
          "output_type": "execute_result",
          "data": {
            "text/plain": [
              "0.11483385035264292"
            ]
          },
          "metadata": {
            "tags": []
          },
          "execution_count": 27
        }
      ]
    },
    {
      "cell_type": "code",
      "metadata": {
        "colab": {
          "base_uri": "https://localhost:8080/"
        },
        "id": "GDHCmb1oe629",
        "outputId": "95314c4f-fd0e-4bcb-9777-3cac71fab7ec"
      },
      "source": [
        "zc = stats.norm.ppf(0.95,0,1)\n",
        "zc"
      ],
      "execution_count": 28,
      "outputs": [
        {
          "output_type": "execute_result",
          "data": {
            "text/plain": [
              "1.6448536269514722"
            ]
          },
          "metadata": {
            "tags": []
          },
          "execution_count": 28
        }
      ]
    },
    {
      "cell_type": "code",
      "metadata": {
        "colab": {
          "base_uri": "https://localhost:8080/"
        },
        "id": "5L09TcUVgG4H",
        "outputId": "c07de51a-0c98-4c86-ca06-e90485be80a1"
      },
      "source": [
        "z = ((p1_hat-p2_hat)-0)/sigma_p_hat\n",
        "z"
      ],
      "execution_count": 29,
      "outputs": [
        {
          "output_type": "execute_result",
          "data": {
            "text/plain": [
              "-3.9933471460131575"
            ]
          },
          "metadata": {
            "tags": []
          },
          "execution_count": 29
        }
      ]
    },
    {
      "cell_type": "code",
      "metadata": {
        "colab": {
          "base_uri": "https://localhost:8080/"
        },
        "id": "QonWCDAagy1f",
        "outputId": "0999aa87-501e-4289-d020-54ef541438ad"
      },
      "source": [
        "1-stats.norm.cdf((p1_hat-p2_hat),0,sigma_p_hat) "
      ],
      "execution_count": 30,
      "outputs": [
        {
          "output_type": "execute_result",
          "data": {
            "text/plain": [
              "0.9999674264593504"
            ]
          },
          "metadata": {
            "tags": []
          },
          "execution_count": 30
        }
      ]
    },
    {
      "cell_type": "markdown",
      "metadata": {
        "id": "UAfNM2TuIoms"
      },
      "source": [
        "norm.cdf(x,x.mean(),x.std())\n",
        "\n",
        "The location (loc) keyword specifies the mean. \n",
        "\n",
        "The scale (scale) keyword specifies the standard deviation."
      ]
    },
    {
      "cell_type": "markdown",
      "metadata": {
        "id": "JmNs48-Ci66q"
      },
      "source": [
        "####步驟五: 結論\n",
        "\n",
        "$Z < Z_c$ \n",
        "\n",
        "do not reject null hypothesis\n",
        "\n",
        "在$\\alpha = 0.05$顯著水準下，不拒絕虛無假說\n",
        "\n",
        "TWSE中本益比大於30的比例沒有大於NYSE\n",
        "![6大檢定_6.png](data:image/png;base64,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)\n",
        "\n"
      ]
    }
  ]
}