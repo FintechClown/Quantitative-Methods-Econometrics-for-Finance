{
 "cells": [
  {
   "cell_type": "markdown",
   "metadata": {},
   "source": [
    "# 先建立逐步迴歸向前與向後的函數 "
   ]
  },
  {
   "cell_type": "code",
   "execution_count": 13,
   "metadata": {},
   "outputs": [],
   "source": [
    "import pandas as pd\n",
    "import statsmodels.api as sm\n",
    "\n",
    "\n",
    "def forward_regression(X, y,\n",
    "                       threshold_in,\n",
    "                       verbose=False):\n",
    "    initial_list = []\n",
    "    included = list(initial_list)\n",
    "    while True:\n",
    "        changed=False\n",
    "        excluded = list(set(X.columns)-set(included)) #一個一個變數列入\n",
    "        new_pval = pd.Series(index=excluded,dtype='float64')\n",
    "        for new_column in excluded:\n",
    "            model = sm.OLS(y, sm.add_constant(pd.DataFrame(X[included+[new_column]]))).fit()\n",
    "            new_pval[new_column] = model.pvalues[new_column]  #每一個變數算p-value\n",
    "        best_pval = new_pval.min() \n",
    "        if best_pval < threshold_in:\n",
    "            best_feature = new_pval.idxmin() #找最小值\n",
    "            included.append(best_feature)\n",
    "            changed=True\n",
    "            if verbose:\n",
    "                print('Add  {:30} with p-value {:.6}'.format(best_feature, best_pval))\n",
    "\n",
    "        if not changed:\n",
    "            break\n",
    "\n",
    "    return included\n",
    "\n",
    "def backward_regression(X, y,\n",
    "                           threshold_out,\n",
    "                           verbose=False):\n",
    "    included=list(X.columns)\n",
    "    while True:\n",
    "        changed=False\n",
    "        model = sm.OLS(y, sm.add_constant(pd.DataFrame(X[included]))).fit() #全部變數放入迴歸模型\n",
    "        # use all coefs except intercept\n",
    "        pvalues = model.pvalues.iloc[1:] #計算p-value\n",
    "        worst_pval = pvalues.max() # null if pvalues is empty\n",
    "        if worst_pval > threshold_out:\n",
    "            changed=True\n",
    "            worst_feature = pvalues.idxmax()\n",
    "            included.remove(worst_feature)\n",
    "            if verbose:\n",
    "                print('Drop {:30} with p-value {:.6}'.format(worst_feature, worst_pval))\n",
    "        if not changed:\n",
    "            break\n",
    "    return included"
   ]
  },
  {
   "cell_type": "code",
   "execution_count": 2,
   "metadata": {},
   "outputs": [
    {
     "data": {
      "text/html": [
       "<div>\n",
       "<style scoped>\n",
       "    .dataframe tbody tr th:only-of-type {\n",
       "        vertical-align: middle;\n",
       "    }\n",
       "\n",
       "    .dataframe tbody tr th {\n",
       "        vertical-align: top;\n",
       "    }\n",
       "\n",
       "    .dataframe thead th {\n",
       "        text-align: right;\n",
       "    }\n",
       "</style>\n",
       "<table border=\"1\" class=\"dataframe\">\n",
       "  <thead>\n",
       "    <tr style=\"text-align: right;\">\n",
       "      <th></th>\n",
       "      <th>ret</th>\n",
       "    </tr>\n",
       "  </thead>\n",
       "  <tbody>\n",
       "    <tr>\n",
       "      <th>0</th>\n",
       "      <td>0.095215</td>\n",
       "    </tr>\n",
       "    <tr>\n",
       "      <th>1</th>\n",
       "      <td>0.045228</td>\n",
       "    </tr>\n",
       "    <tr>\n",
       "      <th>2</th>\n",
       "      <td>0.073642</td>\n",
       "    </tr>\n",
       "    <tr>\n",
       "      <th>3</th>\n",
       "      <td>0.020300</td>\n",
       "    </tr>\n",
       "    <tr>\n",
       "      <th>4</th>\n",
       "      <td>0.031626</td>\n",
       "    </tr>\n",
       "  </tbody>\n",
       "</table>\n",
       "</div>"
      ],
      "text/plain": [
       "        ret\n",
       "0  0.095215\n",
       "1  0.045228\n",
       "2  0.073642\n",
       "3  0.020300\n",
       "4  0.031626"
      ]
     },
     "execution_count": 2,
     "metadata": {},
     "output_type": "execute_result"
    }
   ],
   "source": [
    "y= pd.read_csv(\"ret.csv\")\n",
    "y.head()"
   ]
  },
  {
   "cell_type": "code",
   "execution_count": 3,
   "metadata": {},
   "outputs": [
    {
     "data": {
      "text/html": [
       "<div>\n",
       "<style scoped>\n",
       "    .dataframe tbody tr th:only-of-type {\n",
       "        vertical-align: middle;\n",
       "    }\n",
       "\n",
       "    .dataframe tbody tr th {\n",
       "        vertical-align: top;\n",
       "    }\n",
       "\n",
       "    .dataframe thead th {\n",
       "        text-align: right;\n",
       "    }\n",
       "</style>\n",
       "<table border=\"1\" class=\"dataframe\">\n",
       "  <thead>\n",
       "    <tr style=\"text-align: right;\">\n",
       "      <th></th>\n",
       "      <th>beta_hml</th>\n",
       "      <th>beta_mk</th>\n",
       "      <th>beta_mom</th>\n",
       "      <th>beta_smb</th>\n",
       "      <th>firmcode</th>\n",
       "      <th>industry</th>\n",
       "      <th>logv</th>\n",
       "      <th>sigma</th>\n",
       "      <th>skewness</th>\n",
       "      <th>region</th>\n",
       "    </tr>\n",
       "  </thead>\n",
       "  <tbody>\n",
       "    <tr>\n",
       "      <th>0</th>\n",
       "      <td>0.002111</td>\n",
       "      <td>0.877661</td>\n",
       "      <td>0.087371</td>\n",
       "      <td>-0.005359</td>\n",
       "      <td>600000</td>\n",
       "      <td>17</td>\n",
       "      <td>10.125396</td>\n",
       "      <td>0.416688</td>\n",
       "      <td>-0.106485</td>\n",
       "      <td>17</td>\n",
       "    </tr>\n",
       "    <tr>\n",
       "      <th>1</th>\n",
       "      <td>-0.011914</td>\n",
       "      <td>0.607542</td>\n",
       "      <td>0.105205</td>\n",
       "      <td>0.010021</td>\n",
       "      <td>600001</td>\n",
       "      <td>9</td>\n",
       "      <td>9.987034</td>\n",
       "      <td>0.536066</td>\n",
       "      <td>0.992389</td>\n",
       "      <td>30</td>\n",
       "    </tr>\n",
       "    <tr>\n",
       "      <th>2</th>\n",
       "      <td>0.004652</td>\n",
       "      <td>1.155926</td>\n",
       "      <td>0.025733</td>\n",
       "      <td>-0.009100</td>\n",
       "      <td>600002</td>\n",
       "      <td>14</td>\n",
       "      <td>8.621410</td>\n",
       "      <td>0.459964</td>\n",
       "      <td>0.492296</td>\n",
       "      <td>6</td>\n",
       "    </tr>\n",
       "    <tr>\n",
       "      <th>3</th>\n",
       "      <td>-0.003235</td>\n",
       "      <td>0.742394</td>\n",
       "      <td>0.106752</td>\n",
       "      <td>0.016514</td>\n",
       "      <td>600003</td>\n",
       "      <td>14</td>\n",
       "      <td>8.469752</td>\n",
       "      <td>0.521236</td>\n",
       "      <td>1.552359</td>\n",
       "      <td>26</td>\n",
       "    </tr>\n",
       "    <tr>\n",
       "      <th>4</th>\n",
       "      <td>0.000927</td>\n",
       "      <td>0.550775</td>\n",
       "      <td>0.042473</td>\n",
       "      <td>0.002473</td>\n",
       "      <td>600004</td>\n",
       "      <td>9</td>\n",
       "      <td>9.037125</td>\n",
       "      <td>0.458615</td>\n",
       "      <td>-1.585671</td>\n",
       "      <td>4</td>\n",
       "    </tr>\n",
       "  </tbody>\n",
       "</table>\n",
       "</div>"
      ],
      "text/plain": [
       "   beta_hml   beta_mk  beta_mom  beta_smb  firmcode  industry       logv  \\\n",
       "0  0.002111  0.877661  0.087371 -0.005359    600000        17  10.125396   \n",
       "1 -0.011914  0.607542  0.105205  0.010021    600001         9   9.987034   \n",
       "2  0.004652  1.155926  0.025733 -0.009100    600002        14   8.621410   \n",
       "3 -0.003235  0.742394  0.106752  0.016514    600003        14   8.469752   \n",
       "4  0.000927  0.550775  0.042473  0.002473    600004         9   9.037125   \n",
       "\n",
       "      sigma  skewness  region  \n",
       "0  0.416688 -0.106485      17  \n",
       "1  0.536066  0.992389      30  \n",
       "2  0.459964  0.492296       6  \n",
       "3  0.521236  1.552359      26  \n",
       "4  0.458615 -1.585671       4  "
      ]
     },
     "execution_count": 3,
     "metadata": {},
     "output_type": "execute_result"
    }
   ],
   "source": [
    "X= pd.read_csv(\"data.csv\")\n",
    "X.head()"
   ]
  },
  {
   "cell_type": "markdown",
   "metadata": {},
   "source": [
    "# 利用向前法選出變數"
   ]
  },
  {
   "cell_type": "code",
   "execution_count": 4,
   "metadata": {},
   "outputs": [
    {
     "name": "stdout",
     "output_type": "stream",
     "text": [
      "resulting features:\n",
      "['sigma', 'skewness', 'logv']\n"
     ]
    }
   ],
   "source": [
    "result = forward_regression(X, y,0.01)  \n",
    "print('resulting features:')\n",
    "print(result)"
   ]
  },
  {
   "cell_type": "markdown",
   "metadata": {},
   "source": [
    "# 利用選出的變數跑迴歸"
   ]
  },
  {
   "cell_type": "code",
   "execution_count": 5,
   "metadata": {},
   "outputs": [
    {
     "name": "stdout",
     "output_type": "stream",
     "text": [
      "                            OLS Regression Results                            \n",
      "==============================================================================\n",
      "Dep. Variable:                    ret   R-squared:                       0.960\n",
      "Model:                            OLS   Adj. R-squared:                  0.960\n",
      "Method:                 Least Squares   F-statistic:                     6804.\n",
      "Date:                Mon, 03 May 2021   Prob (F-statistic):               0.00\n",
      "Time:                        01:02:17   Log-Likelihood:                 1227.4\n",
      "No. Observations:                 850   AIC:                            -2447.\n",
      "Df Residuals:                     846   BIC:                            -2428.\n",
      "Df Model:                           3                                         \n",
      "Covariance Type:            nonrobust                                         \n",
      "==============================================================================\n",
      "                 coef    std err          t      P>|t|      [0.025      0.975]\n",
      "------------------------------------------------------------------------------\n",
      "const         -0.1460      0.020     -7.356      0.000      -0.185      -0.107\n",
      "sigma          0.0986      0.001    130.035      0.000       0.097       0.100\n",
      "skewness       0.0118      0.001     10.346      0.000       0.010       0.014\n",
      "logv           0.0176      0.002      7.494      0.000       0.013       0.022\n",
      "==============================================================================\n",
      "Omnibus:                      122.958   Durbin-Watson:                   1.392\n",
      "Prob(Omnibus):                  0.000   Jarque-Bera (JB):              319.939\n",
      "Skew:                           0.759   Prob(JB):                     3.36e-70\n",
      "Kurtosis:                       5.594   Cond. No.                         87.2\n",
      "==============================================================================\n",
      "\n",
      "Notes:\n",
      "[1] Standard Errors assume that the covariance matrix of the errors is correctly specified.\n"
     ]
    }
   ],
   "source": [
    "import statsmodels.api as sm\n",
    "#應變數ret 自變數是sigma,skewness,logv\n",
    "pairf=pd.concat([X.sigma,X.skewness,X.logv],axis = 1)\n",
    "model=sm.OLS(y,sm.add_constant(pairf)).fit()\n",
    "print(model.summary())"
   ]
  },
  {
   "cell_type": "markdown",
   "metadata": {},
   "source": [
    "# 利用向後法選出變數"
   ]
  },
  {
   "cell_type": "code",
   "execution_count": 6,
   "metadata": {},
   "outputs": [
    {
     "name": "stdout",
     "output_type": "stream",
     "text": [
      "resulting features:\n",
      "['beta_mk', 'beta_mom', 'logv', 'sigma', 'skewness']\n"
     ]
    }
   ],
   "source": [
    "result = backward_regression(X, y,0.01)  \n",
    "print('resulting features:')\n",
    "print(result)"
   ]
  },
  {
   "cell_type": "markdown",
   "metadata": {},
   "source": [
    "# 利用選出的變數跑迴歸"
   ]
  },
  {
   "cell_type": "code",
   "execution_count": 7,
   "metadata": {},
   "outputs": [
    {
     "name": "stdout",
     "output_type": "stream",
     "text": [
      "                            OLS Regression Results                            \n",
      "==============================================================================\n",
      "Dep. Variable:                    ret   R-squared:                       0.961\n",
      "Model:                            OLS   Adj. R-squared:                  0.961\n",
      "Method:                 Least Squares   F-statistic:                     4211.\n",
      "Date:                Mon, 03 May 2021   Prob (F-statistic):               0.00\n",
      "Time:                        01:02:21   Log-Likelihood:                 1241.1\n",
      "No. Observations:                 850   AIC:                            -2470.\n",
      "Df Residuals:                     844   BIC:                            -2442.\n",
      "Df Model:                           5                                         \n",
      "Covariance Type:            nonrobust                                         \n",
      "==============================================================================\n",
      "                 coef    std err          t      P>|t|      [0.025      0.975]\n",
      "------------------------------------------------------------------------------\n",
      "const         -0.1229      0.020     -6.130      0.000      -0.162      -0.084\n",
      "sigma          0.1069      0.002     59.802      0.000       0.103       0.110\n",
      "skewness       0.0097      0.001      7.939      0.000       0.007       0.012\n",
      "logv           0.0183      0.002      7.859      0.000       0.014       0.023\n",
      "beta_mk       -0.0326      0.007     -4.815      0.000      -0.046      -0.019\n",
      "beta_mom      -0.0993      0.021     -4.699      0.000      -0.141      -0.058\n",
      "==============================================================================\n",
      "Omnibus:                      108.529   Durbin-Watson:                   1.445\n",
      "Prob(Omnibus):                  0.000   Jarque-Bera (JB):              282.369\n",
      "Skew:                           0.674   Prob(JB):                     4.83e-62\n",
      "Kurtosis:                       5.481   Cond. No.                         102.\n",
      "==============================================================================\n",
      "\n",
      "Notes:\n",
      "[1] Standard Errors assume that the covariance matrix of the errors is correctly specified.\n"
     ]
    }
   ],
   "source": [
    "import statsmodels.api as sm\n",
    "#應變數ret 自變數是sigma,skewness,logv,beta_mk,beta_mom\n",
    "pairf=pd.concat([X.sigma,X.skewness,X.logv,X.beta_mk,X.beta_mom],axis = 1)\n",
    "model=sm.OLS(y,sm.add_constant(pairf)).fit()\n",
    "print(model.summary())"
   ]
  },
  {
   "cell_type": "markdown",
   "metadata": {},
   "source": [
    "# 逐步挑選(Stepwise)-向前與向後混和"
   ]
  },
  {
   "cell_type": "code",
   "execution_count": 8,
   "metadata": {},
   "outputs": [],
   "source": [
    "import pandas as pd\n",
    "import statsmodels.api as sm\n",
    "\n",
    "\n",
    "def stepwise_selection(X, y, \n",
    "                       initial_list=[], \n",
    "                       threshold_in=0.05, \n",
    "                       threshold_out=0.05, \n",
    "                       verbose=True):\n",
    "    \"\"\" Perform a forward-backward feature selection \n",
    "    based on p-value from statsmodels.api.OLS\n",
    "    Arguments:\n",
    "        X - pandas.DataFrame with candidate features\n",
    "        y - list-like with the target\n",
    "        initial_list - list of features to start with (column names of X)\n",
    "        threshold_in - include a feature if its p-value < threshold_in\n",
    "        threshold_out - exclude a feature if its p-value > threshold_out\n",
    "        verbose - whether to print the sequence of inclusions and exclusions\n",
    "    Returns: list of selected features \n",
    "    Always set threshold_in < threshold_out to avoid infinite looping.\n",
    "    See https://en.wikipedia.org/wiki/Stepwise_regression for the details\n",
    "    \"\"\"\n",
    "    initial_list = []\n",
    "    included = list(initial_list)\n",
    "    while True:\n",
    "        changed=False\n",
    "        # forward step\n",
    "        excluded = list(set(X.columns)-set(included))\n",
    "        new_pval = pd.Series(index=excluded,dtype='float64')\n",
    "        for new_column in excluded:\n",
    "            model = sm.OLS(y, sm.add_constant(pd.DataFrame(X[included+[new_column]]))).fit()\n",
    "            new_pval[new_column] = model.pvalues[new_column]\n",
    "        best_pval = new_pval.min()\n",
    "        if best_pval < threshold_in:\n",
    "            best_feature = new_pval.idxmin()\n",
    "            included.append(best_feature)\n",
    "            changed=True\n",
    "            if verbose:\n",
    "                print('Add  {:30} with p-value {:.6}'.format(best_feature, best_pval))\n",
    "\n",
    "        #backward step\n",
    "        model = sm.OLS(y, sm.add_constant(pd.DataFrame(X[included]))).fit()\n",
    "        # use all coefs except intercept\n",
    "        pvalues = model.pvalues.iloc[1:]\n",
    "        worst_pval = pvalues.max() # null if pvalues is empty\n",
    "        if worst_pval > threshold_out:\n",
    "            changed=True\n",
    "            worst_feature = pvalues.idxmax()\n",
    "            included.remove(worst_feature)\n",
    "            if verbose:\n",
    "                print('Drop {:30} with p-value {:.6}'.format(worst_feature, worst_pval))\n",
    "        if not changed:\n",
    "            break\n",
    "    return included"
   ]
  },
  {
   "cell_type": "code",
   "execution_count": 9,
   "metadata": {},
   "outputs": [
    {
     "data": {
      "text/html": [
       "<div>\n",
       "<style scoped>\n",
       "    .dataframe tbody tr th:only-of-type {\n",
       "        vertical-align: middle;\n",
       "    }\n",
       "\n",
       "    .dataframe tbody tr th {\n",
       "        vertical-align: top;\n",
       "    }\n",
       "\n",
       "    .dataframe thead th {\n",
       "        text-align: right;\n",
       "    }\n",
       "</style>\n",
       "<table border=\"1\" class=\"dataframe\">\n",
       "  <thead>\n",
       "    <tr style=\"text-align: right;\">\n",
       "      <th></th>\n",
       "      <th>ret</th>\n",
       "    </tr>\n",
       "  </thead>\n",
       "  <tbody>\n",
       "    <tr>\n",
       "      <th>0</th>\n",
       "      <td>0.095215</td>\n",
       "    </tr>\n",
       "    <tr>\n",
       "      <th>1</th>\n",
       "      <td>0.045228</td>\n",
       "    </tr>\n",
       "    <tr>\n",
       "      <th>2</th>\n",
       "      <td>0.073642</td>\n",
       "    </tr>\n",
       "    <tr>\n",
       "      <th>3</th>\n",
       "      <td>0.020300</td>\n",
       "    </tr>\n",
       "    <tr>\n",
       "      <th>4</th>\n",
       "      <td>0.031626</td>\n",
       "    </tr>\n",
       "  </tbody>\n",
       "</table>\n",
       "</div>"
      ],
      "text/plain": [
       "        ret\n",
       "0  0.095215\n",
       "1  0.045228\n",
       "2  0.073642\n",
       "3  0.020300\n",
       "4  0.031626"
      ]
     },
     "execution_count": 9,
     "metadata": {},
     "output_type": "execute_result"
    }
   ],
   "source": [
    "y= pd.read_csv(\"ret.csv\")\n",
    "y.head()"
   ]
  },
  {
   "cell_type": "code",
   "execution_count": 10,
   "metadata": {},
   "outputs": [
    {
     "data": {
      "text/html": [
       "<div>\n",
       "<style scoped>\n",
       "    .dataframe tbody tr th:only-of-type {\n",
       "        vertical-align: middle;\n",
       "    }\n",
       "\n",
       "    .dataframe tbody tr th {\n",
       "        vertical-align: top;\n",
       "    }\n",
       "\n",
       "    .dataframe thead th {\n",
       "        text-align: right;\n",
       "    }\n",
       "</style>\n",
       "<table border=\"1\" class=\"dataframe\">\n",
       "  <thead>\n",
       "    <tr style=\"text-align: right;\">\n",
       "      <th></th>\n",
       "      <th>beta_hml</th>\n",
       "      <th>beta_mk</th>\n",
       "      <th>beta_mom</th>\n",
       "      <th>beta_smb</th>\n",
       "      <th>firmcode</th>\n",
       "      <th>industry</th>\n",
       "      <th>logv</th>\n",
       "      <th>sigma</th>\n",
       "      <th>skewness</th>\n",
       "      <th>region</th>\n",
       "    </tr>\n",
       "  </thead>\n",
       "  <tbody>\n",
       "    <tr>\n",
       "      <th>0</th>\n",
       "      <td>0.002111</td>\n",
       "      <td>0.877661</td>\n",
       "      <td>0.087371</td>\n",
       "      <td>-0.005359</td>\n",
       "      <td>600000</td>\n",
       "      <td>17</td>\n",
       "      <td>10.125396</td>\n",
       "      <td>0.416688</td>\n",
       "      <td>-0.106485</td>\n",
       "      <td>17</td>\n",
       "    </tr>\n",
       "    <tr>\n",
       "      <th>1</th>\n",
       "      <td>-0.011914</td>\n",
       "      <td>0.607542</td>\n",
       "      <td>0.105205</td>\n",
       "      <td>0.010021</td>\n",
       "      <td>600001</td>\n",
       "      <td>9</td>\n",
       "      <td>9.987034</td>\n",
       "      <td>0.536066</td>\n",
       "      <td>0.992389</td>\n",
       "      <td>30</td>\n",
       "    </tr>\n",
       "    <tr>\n",
       "      <th>2</th>\n",
       "      <td>0.004652</td>\n",
       "      <td>1.155926</td>\n",
       "      <td>0.025733</td>\n",
       "      <td>-0.009100</td>\n",
       "      <td>600002</td>\n",
       "      <td>14</td>\n",
       "      <td>8.621410</td>\n",
       "      <td>0.459964</td>\n",
       "      <td>0.492296</td>\n",
       "      <td>6</td>\n",
       "    </tr>\n",
       "    <tr>\n",
       "      <th>3</th>\n",
       "      <td>-0.003235</td>\n",
       "      <td>0.742394</td>\n",
       "      <td>0.106752</td>\n",
       "      <td>0.016514</td>\n",
       "      <td>600003</td>\n",
       "      <td>14</td>\n",
       "      <td>8.469752</td>\n",
       "      <td>0.521236</td>\n",
       "      <td>1.552359</td>\n",
       "      <td>26</td>\n",
       "    </tr>\n",
       "    <tr>\n",
       "      <th>4</th>\n",
       "      <td>0.000927</td>\n",
       "      <td>0.550775</td>\n",
       "      <td>0.042473</td>\n",
       "      <td>0.002473</td>\n",
       "      <td>600004</td>\n",
       "      <td>9</td>\n",
       "      <td>9.037125</td>\n",
       "      <td>0.458615</td>\n",
       "      <td>-1.585671</td>\n",
       "      <td>4</td>\n",
       "    </tr>\n",
       "  </tbody>\n",
       "</table>\n",
       "</div>"
      ],
      "text/plain": [
       "   beta_hml   beta_mk  beta_mom  beta_smb  firmcode  industry       logv  \\\n",
       "0  0.002111  0.877661  0.087371 -0.005359    600000        17  10.125396   \n",
       "1 -0.011914  0.607542  0.105205  0.010021    600001         9   9.987034   \n",
       "2  0.004652  1.155926  0.025733 -0.009100    600002        14   8.621410   \n",
       "3 -0.003235  0.742394  0.106752  0.016514    600003        14   8.469752   \n",
       "4  0.000927  0.550775  0.042473  0.002473    600004         9   9.037125   \n",
       "\n",
       "      sigma  skewness  region  \n",
       "0  0.416688 -0.106485      17  \n",
       "1  0.536066  0.992389      30  \n",
       "2  0.459964  0.492296       6  \n",
       "3  0.521236  1.552359      26  \n",
       "4  0.458615 -1.585671       4  "
      ]
     },
     "execution_count": 10,
     "metadata": {},
     "output_type": "execute_result"
    }
   ],
   "source": [
    "X= pd.read_csv(\"data.csv\")\n",
    "X.head()"
   ]
  },
  {
   "cell_type": "code",
   "execution_count": 11,
   "metadata": {},
   "outputs": [
    {
     "name": "stdout",
     "output_type": "stream",
     "text": [
      "Add  sigma                          with p-value 0.0\n",
      "Add  skewness                       with p-value 4.45653e-20\n",
      "Add  logv                           with p-value 1.68853e-13\n",
      "Add  beta_mk                        with p-value 0.0211539\n",
      "Add  beta_mom                       with p-value 3.0479e-06\n",
      "Add  industry                       with p-value 0.0356136\n",
      "Add  beta_smb                       with p-value 0.0363007\n",
      "Add  beta_hml                       with p-value 0.0127963\n",
      "resulting features:\n",
      "['sigma', 'skewness', 'logv', 'beta_mk', 'beta_mom', 'industry', 'beta_smb', 'beta_hml']\n"
     ]
    }
   ],
   "source": [
    "result = stepwise_selection(X, y)\n",
    "print('resulting features:')\n",
    "print(result)"
   ]
  },
  {
   "cell_type": "markdown",
   "metadata": {},
   "source": [
    "# 利用選出的變數跑迴歸"
   ]
  },
  {
   "cell_type": "code",
   "execution_count": 12,
   "metadata": {},
   "outputs": [
    {
     "name": "stdout",
     "output_type": "stream",
     "text": [
      "                            OLS Regression Results                            \n",
      "==============================================================================\n",
      "Dep. Variable:                    ret   R-squared:                       0.962\n",
      "Model:                            OLS   Adj. R-squared:                  0.962\n",
      "Method:                 Least Squares   F-statistic:                     2672.\n",
      "Date:                Mon, 03 May 2021   Prob (F-statistic):               0.00\n",
      "Time:                        01:02:28   Log-Likelihood:                 1248.6\n",
      "No. Observations:                 850   AIC:                            -2479.\n",
      "Df Residuals:                     841   BIC:                            -2437.\n",
      "Df Model:                           8                                         \n",
      "Covariance Type:            nonrobust                                         \n",
      "==============================================================================\n",
      "                 coef    std err          t      P>|t|      [0.025      0.975]\n",
      "------------------------------------------------------------------------------\n",
      "const         -0.0910      0.022     -4.176      0.000      -0.134      -0.048\n",
      "sigma          0.1082      0.002     45.333      0.000       0.103       0.113\n",
      "skewness       0.0105      0.001      8.421      0.000       0.008       0.013\n",
      "logv           0.0157      0.002      6.370      0.000       0.011       0.021\n",
      "beta_mk       -0.0228      0.007     -3.126      0.002      -0.037      -0.008\n",
      "beta_mom      -0.1125      0.021     -5.238      0.000      -0.155      -0.070\n",
      "industry      -0.0008      0.000     -2.147      0.032      -0.002   -6.81e-05\n",
      "beta_smb      -0.4325      0.168     -2.581      0.010      -0.761      -0.104\n",
      "beta_hml      -0.2445      0.098     -2.495      0.013      -0.437      -0.052\n",
      "==============================================================================\n",
      "Omnibus:                       99.288   Durbin-Watson:                   1.426\n",
      "Prob(Omnibus):                  0.000   Jarque-Bera (JB):              269.994\n",
      "Skew:                           0.605   Prob(JB):                     2.35e-59\n",
      "Kurtosis:                       5.481   Cond. No.                     1.30e+03\n",
      "==============================================================================\n",
      "\n",
      "Notes:\n",
      "[1] Standard Errors assume that the covariance matrix of the errors is correctly specified.\n",
      "[2] The condition number is large, 1.3e+03. This might indicate that there are\n",
      "strong multicollinearity or other numerical problems.\n"
     ]
    }
   ],
   "source": [
    "import statsmodels.api as sm\n",
    "#應變數ret 自變數是sigma,skewness,logv,beta_mk,beta_mom,industry,beta_smb,beta_hml]\n",
    "pairf=pd.concat([X.sigma,X.skewness,X.logv,X.beta_mk,X.beta_mom,X.industry,X.beta_smb,X.beta_hml],axis = 1)\n",
    "model=sm.OLS(y,sm.add_constant(pairf)).fit()\n",
    "print(model.summary())"
   ]
  },
  {
   "cell_type": "code",
   "execution_count": null,
   "metadata": {},
   "outputs": [],
   "source": []
  }
 ],
 "metadata": {
  "kernelspec": {
   "display_name": "Python 3",
   "language": "python",
   "name": "python3"
  },
  "language_info": {
   "codemirror_mode": {
    "name": "ipython",
    "version": 3
   },
   "file_extension": ".py",
   "mimetype": "text/x-python",
   "name": "python",
   "nbconvert_exporter": "python",
   "pygments_lexer": "ipython3",
   "version": "3.7.4"
  },
  "latex_envs": {
   "LaTeX_envs_menu_present": true,
   "autoclose": false,
   "autocomplete": true,
   "bibliofile": "biblio.bib",
   "cite_by": "apalike",
   "current_citInitial": 1,
   "eqLabelWithNumbers": true,
   "eqNumInitial": 1,
   "hotkeys": {
    "equation": "Ctrl-E",
    "itemize": "Ctrl-I"
   },
   "labels_anchors": false,
   "latex_user_defs": false,
   "report_style_numbering": false,
   "user_envs_cfg": false
  }
 },
 "nbformat": 4,
 "nbformat_minor": 4
}
