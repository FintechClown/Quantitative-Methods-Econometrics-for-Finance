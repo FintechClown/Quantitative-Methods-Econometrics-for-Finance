{
 "cells": [
  {
   "cell_type": "markdown",
   "metadata": {},
   "source": [
    "# Example 4.2\n",
    "在本例題中，要探討Michigan Educational Assessment Program(MEAP)standardized 10th grade math test(math10)與其他變數的互動\n",
    "## R-square 判斷法"
   ]
  },
  {
   "cell_type": "code",
   "execution_count": 40,
   "metadata": {},
   "outputs": [],
   "source": [
    "import os\n",
    "import pandas as pd\n",
    "import statsmodels.api as sm\n",
    "import numpy as np"
   ]
  },
  {
   "cell_type": "code",
   "execution_count": 3,
   "metadata": {},
   "outputs": [],
   "source": [
    "path = os.path.abspath(r'C:\\Users\\s0954\\Desktop\\財金計量方法\\0521複回歸作業\\複迴歸結果解釋_Wooldrige_chapter_4_樣本資料-20210523')\n",
    "file = 'Example4.2_Meap93.csv'\n",
    "df = pd.read_csv(os.path.join(path,file))"
   ]
  },
  {
   "cell_type": "code",
   "execution_count": 4,
   "metadata": {
    "scrolled": true
   },
   "outputs": [
    {
     "data": {
      "text/html": [
       "<div>\n",
       "<style scoped>\n",
       "    .dataframe tbody tr th:only-of-type {\n",
       "        vertical-align: middle;\n",
       "    }\n",
       "\n",
       "    .dataframe tbody tr th {\n",
       "        vertical-align: top;\n",
       "    }\n",
       "\n",
       "    .dataframe thead th {\n",
       "        text-align: right;\n",
       "    }\n",
       "</style>\n",
       "<table border=\"1\" class=\"dataframe\">\n",
       "  <thead>\n",
       "    <tr style=\"text-align: right;\">\n",
       "      <th></th>\n",
       "      <th>lnchprg</th>\n",
       "      <th>enroll</th>\n",
       "      <th>staff</th>\n",
       "      <th>expend</th>\n",
       "      <th>salary</th>\n",
       "      <th>benefits</th>\n",
       "      <th>droprate</th>\n",
       "      <th>gradrate</th>\n",
       "      <th>math10</th>\n",
       "      <th>sci11</th>\n",
       "      <th>totcomp</th>\n",
       "      <th>ltotcomp</th>\n",
       "      <th>lexpend</th>\n",
       "      <th>lenroll</th>\n",
       "      <th>lstaff</th>\n",
       "      <th>bensal</th>\n",
       "      <th>lsalary</th>\n",
       "    </tr>\n",
       "  </thead>\n",
       "  <tbody>\n",
       "    <tr>\n",
       "      <td>0</td>\n",
       "      <td>1.4</td>\n",
       "      <td>1862</td>\n",
       "      <td>112.599999</td>\n",
       "      <td>5765</td>\n",
       "      <td>37498</td>\n",
       "      <td>7420</td>\n",
       "      <td>2.9</td>\n",
       "      <td>89.199997</td>\n",
       "      <td>56.400002</td>\n",
       "      <td>67.900002</td>\n",
       "      <td>44918</td>\n",
       "      <td>10.712594</td>\n",
       "      <td>8.659560</td>\n",
       "      <td>7.529407</td>\n",
       "      <td>4.723842</td>\n",
       "      <td>0.197877</td>\n",
       "      <td>10.532043</td>\n",
       "    </tr>\n",
       "    <tr>\n",
       "      <td>1</td>\n",
       "      <td>2.3</td>\n",
       "      <td>11355</td>\n",
       "      <td>101.199997</td>\n",
       "      <td>6601</td>\n",
       "      <td>48722</td>\n",
       "      <td>10370</td>\n",
       "      <td>1.3</td>\n",
       "      <td>91.400002</td>\n",
       "      <td>42.700001</td>\n",
       "      <td>65.300003</td>\n",
       "      <td>59092</td>\n",
       "      <td>10.986851</td>\n",
       "      <td>8.794976</td>\n",
       "      <td>9.337414</td>\n",
       "      <td>4.617099</td>\n",
       "      <td>0.212840</td>\n",
       "      <td>10.793886</td>\n",
       "    </tr>\n",
       "    <tr>\n",
       "      <td>2</td>\n",
       "      <td>2.7</td>\n",
       "      <td>7685</td>\n",
       "      <td>114.000000</td>\n",
       "      <td>6834</td>\n",
       "      <td>44541</td>\n",
       "      <td>7313</td>\n",
       "      <td>3.5</td>\n",
       "      <td>91.400002</td>\n",
       "      <td>43.799999</td>\n",
       "      <td>54.299999</td>\n",
       "      <td>51854</td>\n",
       "      <td>10.856188</td>\n",
       "      <td>8.829665</td>\n",
       "      <td>8.947025</td>\n",
       "      <td>4.736198</td>\n",
       "      <td>0.164186</td>\n",
       "      <td>10.704165</td>\n",
       "    </tr>\n",
       "    <tr>\n",
       "      <td>3</td>\n",
       "      <td>3.4</td>\n",
       "      <td>1148</td>\n",
       "      <td>85.400002</td>\n",
       "      <td>3586</td>\n",
       "      <td>31566</td>\n",
       "      <td>5989</td>\n",
       "      <td>3.6</td>\n",
       "      <td>86.599998</td>\n",
       "      <td>25.299999</td>\n",
       "      <td>60.000000</td>\n",
       "      <td>37555</td>\n",
       "      <td>10.533562</td>\n",
       "      <td>8.184793</td>\n",
       "      <td>7.045776</td>\n",
       "      <td>4.447346</td>\n",
       "      <td>0.189729</td>\n",
       "      <td>10.359836</td>\n",
       "    </tr>\n",
       "    <tr>\n",
       "      <td>4</td>\n",
       "      <td>3.4</td>\n",
       "      <td>1572</td>\n",
       "      <td>96.099998</td>\n",
       "      <td>3847</td>\n",
       "      <td>29781</td>\n",
       "      <td>5545</td>\n",
       "      <td>0.0</td>\n",
       "      <td>100.000000</td>\n",
       "      <td>15.300000</td>\n",
       "      <td>65.800003</td>\n",
       "      <td>35326</td>\n",
       "      <td>10.472375</td>\n",
       "      <td>8.255049</td>\n",
       "      <td>7.360104</td>\n",
       "      <td>4.565389</td>\n",
       "      <td>0.186193</td>\n",
       "      <td>10.301626</td>\n",
       "    </tr>\n",
       "    <tr>\n",
       "      <td>5</td>\n",
       "      <td>3.4</td>\n",
       "      <td>2496</td>\n",
       "      <td>101.099998</td>\n",
       "      <td>5070</td>\n",
       "      <td>36801</td>\n",
       "      <td>5895</td>\n",
       "      <td>2.7</td>\n",
       "      <td>89.199997</td>\n",
       "      <td>46.000000</td>\n",
       "      <td>60.500000</td>\n",
       "      <td>42696</td>\n",
       "      <td>10.661860</td>\n",
       "      <td>8.531096</td>\n",
       "      <td>7.822445</td>\n",
       "      <td>4.616110</td>\n",
       "      <td>0.160186</td>\n",
       "      <td>10.513280</td>\n",
       "    </tr>\n",
       "    <tr>\n",
       "      <td>6</td>\n",
       "      <td>3.6</td>\n",
       "      <td>3358</td>\n",
       "      <td>87.599998</td>\n",
       "      <td>4474</td>\n",
       "      <td>37863</td>\n",
       "      <td>6934</td>\n",
       "      <td>1.4</td>\n",
       "      <td>95.099998</td>\n",
       "      <td>33.599998</td>\n",
       "      <td>67.400002</td>\n",
       "      <td>44797</td>\n",
       "      <td>10.709896</td>\n",
       "      <td>8.406038</td>\n",
       "      <td>8.119101</td>\n",
       "      <td>4.472781</td>\n",
       "      <td>0.183134</td>\n",
       "      <td>10.541730</td>\n",
       "    </tr>\n",
       "    <tr>\n",
       "      <td>7</td>\n",
       "      <td>3.6</td>\n",
       "      <td>11983</td>\n",
       "      <td>96.000000</td>\n",
       "      <td>5159</td>\n",
       "      <td>40133</td>\n",
       "      <td>8085</td>\n",
       "      <td>2.5</td>\n",
       "      <td>87.800003</td>\n",
       "      <td>40.099998</td>\n",
       "      <td>69.400002</td>\n",
       "      <td>48218</td>\n",
       "      <td>10.783487</td>\n",
       "      <td>8.548498</td>\n",
       "      <td>9.391244</td>\n",
       "      <td>4.564348</td>\n",
       "      <td>0.201455</td>\n",
       "      <td>10.599955</td>\n",
       "    </tr>\n",
       "    <tr>\n",
       "      <td>8</td>\n",
       "      <td>4.2</td>\n",
       "      <td>3499</td>\n",
       "      <td>102.800003</td>\n",
       "      <td>5012</td>\n",
       "      <td>36451</td>\n",
       "      <td>7253</td>\n",
       "      <td>1.8</td>\n",
       "      <td>93.199997</td>\n",
       "      <td>42.099998</td>\n",
       "      <td>71.699997</td>\n",
       "      <td>43704</td>\n",
       "      <td>10.685195</td>\n",
       "      <td>8.519590</td>\n",
       "      <td>8.160233</td>\n",
       "      <td>4.632785</td>\n",
       "      <td>0.198979</td>\n",
       "      <td>10.503724</td>\n",
       "    </tr>\n",
       "    <tr>\n",
       "      <td>9</td>\n",
       "      <td>4.2</td>\n",
       "      <td>5095</td>\n",
       "      <td>145.000000</td>\n",
       "      <td>6501</td>\n",
       "      <td>33449</td>\n",
       "      <td>7386</td>\n",
       "      <td>1.9</td>\n",
       "      <td>92.099998</td>\n",
       "      <td>39.799999</td>\n",
       "      <td>55.000000</td>\n",
       "      <td>40835</td>\n",
       "      <td>10.617295</td>\n",
       "      <td>8.779712</td>\n",
       "      <td>8.536015</td>\n",
       "      <td>4.976734</td>\n",
       "      <td>0.220814</td>\n",
       "      <td>10.417777</td>\n",
       "    </tr>\n",
       "  </tbody>\n",
       "</table>\n",
       "</div>"
      ],
      "text/plain": [
       "   lnchprg  enroll       staff  expend  salary  benefits  droprate  \\\n",
       "0      1.4    1862  112.599999    5765   37498      7420       2.9   \n",
       "1      2.3   11355  101.199997    6601   48722     10370       1.3   \n",
       "2      2.7    7685  114.000000    6834   44541      7313       3.5   \n",
       "3      3.4    1148   85.400002    3586   31566      5989       3.6   \n",
       "4      3.4    1572   96.099998    3847   29781      5545       0.0   \n",
       "5      3.4    2496  101.099998    5070   36801      5895       2.7   \n",
       "6      3.6    3358   87.599998    4474   37863      6934       1.4   \n",
       "7      3.6   11983   96.000000    5159   40133      8085       2.5   \n",
       "8      4.2    3499  102.800003    5012   36451      7253       1.8   \n",
       "9      4.2    5095  145.000000    6501   33449      7386       1.9   \n",
       "\n",
       "     gradrate     math10      sci11  totcomp   ltotcomp   lexpend   lenroll  \\\n",
       "0   89.199997  56.400002  67.900002    44918  10.712594  8.659560  7.529407   \n",
       "1   91.400002  42.700001  65.300003    59092  10.986851  8.794976  9.337414   \n",
       "2   91.400002  43.799999  54.299999    51854  10.856188  8.829665  8.947025   \n",
       "3   86.599998  25.299999  60.000000    37555  10.533562  8.184793  7.045776   \n",
       "4  100.000000  15.300000  65.800003    35326  10.472375  8.255049  7.360104   \n",
       "5   89.199997  46.000000  60.500000    42696  10.661860  8.531096  7.822445   \n",
       "6   95.099998  33.599998  67.400002    44797  10.709896  8.406038  8.119101   \n",
       "7   87.800003  40.099998  69.400002    48218  10.783487  8.548498  9.391244   \n",
       "8   93.199997  42.099998  71.699997    43704  10.685195  8.519590  8.160233   \n",
       "9   92.099998  39.799999  55.000000    40835  10.617295  8.779712  8.536015   \n",
       "\n",
       "     lstaff    bensal    lsalary  \n",
       "0  4.723842  0.197877  10.532043  \n",
       "1  4.617099  0.212840  10.793886  \n",
       "2  4.736198  0.164186  10.704165  \n",
       "3  4.447346  0.189729  10.359836  \n",
       "4  4.565389  0.186193  10.301626  \n",
       "5  4.616110  0.160186  10.513280  \n",
       "6  4.472781  0.183134  10.541730  \n",
       "7  4.564348  0.201455  10.599955  \n",
       "8  4.632785  0.198979  10.503724  \n",
       "9  4.976734  0.220814  10.417777  "
      ]
     },
     "execution_count": 4,
     "metadata": {},
     "output_type": "execute_result"
    }
   ],
   "source": [
    "df.head(10)"
   ]
  },
  {
   "cell_type": "code",
   "execution_count": 5,
   "metadata": {},
   "outputs": [],
   "source": [
    "math10 = df['math10']\n",
    "del df['math10']"
   ]
  },
  {
   "cell_type": "markdown",
   "metadata": {},
   "source": [
    "## 每一項跑單迴歸分析"
   ]
  },
  {
   "cell_type": "code",
   "execution_count": 6,
   "metadata": {},
   "outputs": [],
   "source": [
    "#計算每個自變數 X 的 pvalue\n",
    "def single_pval(X,y):\n",
    "    pv = {}\n",
    "    for single_col in X:\n",
    "        model = sm.OLS(y,sm.add_constant(df[single_col])).fit()\n",
    "        single_pvalue = model.pvalues.iloc[1]\n",
    "        pv[single_col]=single_pvalue\n",
    "    return pv"
   ]
  },
  {
   "cell_type": "code",
   "execution_count": 7,
   "metadata": {},
   "outputs": [],
   "source": [
    "def single_rsq(X,y):\n",
    "    rsq = {}\n",
    "    for single_col in X:\n",
    "        model = sm.OLS(y,sm.add_constant(df[single_col])).fit()\n",
    "        single_rsq = model.rsquared\n",
    "        rsq[single_col]=single_rsq\n",
    "    return rsq"
   ]
  },
  {
   "cell_type": "code",
   "execution_count": 8,
   "metadata": {},
   "outputs": [
    {
     "name": "stderr",
     "output_type": "stream",
     "text": [
      "C:\\Users\\s0954\\Anaconda3\\lib\\site-packages\\numpy\\core\\fromnumeric.py:2389: FutureWarning: Method .ptp is deprecated and will be removed in a future version. Use numpy.ptp instead.\n",
      "  return ptp(axis=axis, out=out, **kwargs)\n"
     ]
    },
    {
     "data": {
      "text/plain": [
       "{'lnchprg': 2.746609039618981e-18,\n",
       " 'enroll': 0.14827081751261023,\n",
       " 'staff': 0.9071676822326178,\n",
       " 'expend': 0.0002273004741148899,\n",
       " 'salary': 1.02785910421596e-06,\n",
       " 'benefits': 0.08686033124794995,\n",
       " 'droprate': 0.00025452723970975383,\n",
       " 'gradrate': 4.747924361105861e-07,\n",
       " 'sci11': 3.978634773844495e-06,\n",
       " 'totcomp': 6.013991871100513e-06,\n",
       " 'ltotcomp': 1.7450013302877949e-06,\n",
       " 'lexpend': 0.00047520715083538775,\n",
       " 'lenroll': 0.3277926655003991,\n",
       " 'lstaff': 0.6980739767952057,\n",
       " 'bensal': 0.06804197358659328,\n",
       " 'lsalary': 4.111765460216469e-07}"
      ]
     },
     "execution_count": 8,
     "metadata": {},
     "output_type": "execute_result"
    }
   ],
   "source": [
    "pv = single_pval(df,math10)\n",
    "pv\n",
    "#pd.DataFrame.from_dict(pv,columns=['pvalue'])"
   ]
  },
  {
   "cell_type": "code",
   "execution_count": 9,
   "metadata": {},
   "outputs": [
    {
     "data": {
      "text/plain": [
       "{'lnchprg': 0.1710340964985384,\n",
       " 'enroll': 0.005140744341830428,\n",
       " 'staff': 3.3534093119236275e-05,\n",
       " 'expend': 0.03296049962828518,\n",
       " 'salary': 0.05717830007027236,\n",
       " 'benefits': 0.007203558890136574,\n",
       " 'droprate': 0.03245411405482801,\n",
       " 'gradrate': 0.06063250636268258,\n",
       " 'sci11': 0.051113462626346196,\n",
       " 'totcomp': 0.049259834610870246,\n",
       " 'ltotcomp': 0.05480820724123947,\n",
       " 'lexpend': 0.02966329326596473,\n",
       " 'lenroll': 0.0023587368150796983,\n",
       " 'lstaff': 0.00037103627207901724,\n",
       " 'bensal': 0.008177550936759315,\n",
       " 'lsalary': 0.06127523769013998}"
      ]
     },
     "execution_count": 9,
     "metadata": {},
     "output_type": "execute_result"
    }
   ],
   "source": [
    "rsq = single_rsq(df,math10)\n",
    "rsq"
   ]
  },
  {
   "cell_type": "code",
   "execution_count": 10,
   "metadata": {},
   "outputs": [],
   "source": [
    "pv_df = pd.DataFrame(pv.items(),columns=['name','pvalue']).set_index('name')\n",
    "rsq_df = pd.DataFrame(rsq.items(),columns=['name','rsquared']).set_index('name')\n",
    "variable_df =pd.concat([pv_df,rsq_df],axis=1) "
   ]
  },
  {
   "cell_type": "code",
   "execution_count": 11,
   "metadata": {},
   "outputs": [],
   "source": [
    "variable_df = variable_df[variable_df.index!='math10']"
   ]
  },
  {
   "cell_type": "code",
   "execution_count": 12,
   "metadata": {},
   "outputs": [
    {
     "data": {
      "text/html": [
       "<div>\n",
       "<style scoped>\n",
       "    .dataframe tbody tr th:only-of-type {\n",
       "        vertical-align: middle;\n",
       "    }\n",
       "\n",
       "    .dataframe tbody tr th {\n",
       "        vertical-align: top;\n",
       "    }\n",
       "\n",
       "    .dataframe thead th {\n",
       "        text-align: right;\n",
       "    }\n",
       "</style>\n",
       "<table border=\"1\" class=\"dataframe\">\n",
       "  <thead>\n",
       "    <tr style=\"text-align: right;\">\n",
       "      <th></th>\n",
       "      <th>pvalue</th>\n",
       "      <th>rsquared</th>\n",
       "    </tr>\n",
       "    <tr>\n",
       "      <th>name</th>\n",
       "      <th></th>\n",
       "      <th></th>\n",
       "    </tr>\n",
       "  </thead>\n",
       "  <tbody>\n",
       "    <tr>\n",
       "      <td>lnchprg</td>\n",
       "      <td>2.746609e-18</td>\n",
       "      <td>0.171034</td>\n",
       "    </tr>\n",
       "    <tr>\n",
       "      <td>enroll</td>\n",
       "      <td>1.482708e-01</td>\n",
       "      <td>0.005141</td>\n",
       "    </tr>\n",
       "    <tr>\n",
       "      <td>staff</td>\n",
       "      <td>9.071677e-01</td>\n",
       "      <td>0.000034</td>\n",
       "    </tr>\n",
       "    <tr>\n",
       "      <td>expend</td>\n",
       "      <td>2.273005e-04</td>\n",
       "      <td>0.032960</td>\n",
       "    </tr>\n",
       "    <tr>\n",
       "      <td>salary</td>\n",
       "      <td>1.027859e-06</td>\n",
       "      <td>0.057178</td>\n",
       "    </tr>\n",
       "    <tr>\n",
       "      <td>benefits</td>\n",
       "      <td>8.686033e-02</td>\n",
       "      <td>0.007204</td>\n",
       "    </tr>\n",
       "    <tr>\n",
       "      <td>droprate</td>\n",
       "      <td>2.545272e-04</td>\n",
       "      <td>0.032454</td>\n",
       "    </tr>\n",
       "    <tr>\n",
       "      <td>gradrate</td>\n",
       "      <td>4.747924e-07</td>\n",
       "      <td>0.060633</td>\n",
       "    </tr>\n",
       "    <tr>\n",
       "      <td>sci11</td>\n",
       "      <td>3.978635e-06</td>\n",
       "      <td>0.051113</td>\n",
       "    </tr>\n",
       "    <tr>\n",
       "      <td>totcomp</td>\n",
       "      <td>6.013992e-06</td>\n",
       "      <td>0.049260</td>\n",
       "    </tr>\n",
       "    <tr>\n",
       "      <td>ltotcomp</td>\n",
       "      <td>1.745001e-06</td>\n",
       "      <td>0.054808</td>\n",
       "    </tr>\n",
       "    <tr>\n",
       "      <td>lexpend</td>\n",
       "      <td>4.752072e-04</td>\n",
       "      <td>0.029663</td>\n",
       "    </tr>\n",
       "    <tr>\n",
       "      <td>lenroll</td>\n",
       "      <td>3.277927e-01</td>\n",
       "      <td>0.002359</td>\n",
       "    </tr>\n",
       "    <tr>\n",
       "      <td>lstaff</td>\n",
       "      <td>6.980740e-01</td>\n",
       "      <td>0.000371</td>\n",
       "    </tr>\n",
       "    <tr>\n",
       "      <td>bensal</td>\n",
       "      <td>6.804197e-02</td>\n",
       "      <td>0.008178</td>\n",
       "    </tr>\n",
       "    <tr>\n",
       "      <td>lsalary</td>\n",
       "      <td>4.111765e-07</td>\n",
       "      <td>0.061275</td>\n",
       "    </tr>\n",
       "  </tbody>\n",
       "</table>\n",
       "</div>"
      ],
      "text/plain": [
       "                pvalue  rsquared\n",
       "name                            \n",
       "lnchprg   2.746609e-18  0.171034\n",
       "enroll    1.482708e-01  0.005141\n",
       "staff     9.071677e-01  0.000034\n",
       "expend    2.273005e-04  0.032960\n",
       "salary    1.027859e-06  0.057178\n",
       "benefits  8.686033e-02  0.007204\n",
       "droprate  2.545272e-04  0.032454\n",
       "gradrate  4.747924e-07  0.060633\n",
       "sci11     3.978635e-06  0.051113\n",
       "totcomp   6.013992e-06  0.049260\n",
       "ltotcomp  1.745001e-06  0.054808\n",
       "lexpend   4.752072e-04  0.029663\n",
       "lenroll   3.277927e-01  0.002359\n",
       "lstaff    6.980740e-01  0.000371\n",
       "bensal    6.804197e-02  0.008178\n",
       "lsalary   4.111765e-07  0.061275"
      ]
     },
     "execution_count": 12,
     "metadata": {},
     "output_type": "execute_result"
    }
   ],
   "source": [
    "#variable_df.applymap(\"{0:.3f}\".format)\n",
    "variable_df"
   ]
  },
  {
   "cell_type": "code",
   "execution_count": 13,
   "metadata": {},
   "outputs": [],
   "source": [
    "def regression(X,y):\n",
    "    return sm.OLS(y,sm.add_constant(X)).fit()"
   ]
  },
  {
   "cell_type": "markdown",
   "metadata": {},
   "source": [
    "## 開始篩選\n",
    "先看全丟進去的"
   ]
  },
  {
   "cell_type": "code",
   "execution_count": 14,
   "metadata": {
    "scrolled": false
   },
   "outputs": [
    {
     "name": "stdout",
     "output_type": "stream",
     "text": [
      "                            OLS Regression Results                            \n",
      "==============================================================================\n",
      "Dep. Variable:                 math10   R-squared:                       0.277\n",
      "Model:                            OLS   Adj. R-squared:                  0.249\n",
      "Method:                 Least Squares   F-statistic:                     10.02\n",
      "Date:                Tue, 25 May 2021   Prob (F-statistic):           2.99e-20\n",
      "Time:                        01:41:51   Log-Likelihood:                -1471.3\n",
      "No. Observations:                 408   AIC:                             2975.\n",
      "Df Residuals:                     392   BIC:                             3039.\n",
      "Df Model:                          15                                         \n",
      "Covariance Type:            nonrobust                                         \n",
      "==============================================================================\n",
      "                 coef    std err          t      P>|t|      [0.025      0.975]\n",
      "------------------------------------------------------------------------------\n",
      "const       -368.6624    323.277     -1.140      0.255   -1004.236     266.911\n",
      "lnchprg       -0.2663      0.044     -6.104      0.000      -0.352      -0.181\n",
      "enroll         0.0009      0.000      2.524      0.012       0.000       0.002\n",
      "staff          0.4537      0.348      1.303      0.193      -0.231       1.138\n",
      "expend         0.0153      0.007      2.328      0.020       0.002       0.028\n",
      "salary         0.0025      0.001      2.028      0.043    7.53e-05       0.005\n",
      "benefits      -0.0057      0.002     -3.071      0.002      -0.009      -0.002\n",
      "droprate       0.0427      0.120      0.356      0.722      -0.193       0.279\n",
      "gradrate       0.0937      0.050      1.867      0.063      -0.005       0.192\n",
      "sci11          0.0320      0.041      0.791      0.429      -0.048       0.112\n",
      "totcomp       -0.0032      0.001     -3.987      0.000      -0.005      -0.002\n",
      "ltotcomp     863.7704    345.295      2.502      0.013     184.909    1542.632\n",
      "lexpend      -95.2844     33.586     -2.837      0.005    -161.315     -29.254\n",
      "lenroll       -4.5034      1.214     -3.709      0.000      -6.891      -2.116\n",
      "lstaff       -23.7798     38.015     -0.626      0.532     -98.519      50.959\n",
      "bensal      -421.1514    240.884     -1.748      0.081    -894.737      52.434\n",
      "lsalary     -745.7068    345.265     -2.160      0.031   -1424.509     -66.905\n",
      "==============================================================================\n",
      "Omnibus:                       25.245   Durbin-Watson:                   1.916\n",
      "Prob(Omnibus):                  0.000   Jarque-Bera (JB):               31.886\n",
      "Skew:                           0.521   Prob(JB):                     1.19e-07\n",
      "Kurtosis:                       3.888   Cond. No.                     9.02e+15\n",
      "==============================================================================\n",
      "\n",
      "Warnings:\n",
      "[1] Standard Errors assume that the covariance matrix of the errors is correctly specified.\n",
      "[2] The smallest eigenvalue is 1.3e-20. This might indicate that there are\n",
      "strong multicollinearity problems or that the design matrix is singular.\n"
     ]
    }
   ],
   "source": [
    "print(regression(df,math10).summary())"
   ]
  },
  {
   "cell_type": "markdown",
   "metadata": {},
   "source": [
    "## 先挑p-value顯著&R-square高的"
   ]
  },
  {
   "cell_type": "code",
   "execution_count": 15,
   "metadata": {},
   "outputs": [],
   "source": [
    "mask1 = variable_df['pvalue']<0.05\n",
    "mask2 = variable_df['rsquared']>0.01"
   ]
  },
  {
   "cell_type": "code",
   "execution_count": 16,
   "metadata": {},
   "outputs": [
    {
     "data": {
      "text/html": [
       "<div>\n",
       "<style scoped>\n",
       "    .dataframe tbody tr th:only-of-type {\n",
       "        vertical-align: middle;\n",
       "    }\n",
       "\n",
       "    .dataframe tbody tr th {\n",
       "        vertical-align: top;\n",
       "    }\n",
       "\n",
       "    .dataframe thead th {\n",
       "        text-align: right;\n",
       "    }\n",
       "</style>\n",
       "<table border=\"1\" class=\"dataframe\">\n",
       "  <thead>\n",
       "    <tr style=\"text-align: right;\">\n",
       "      <th></th>\n",
       "      <th>pvalue</th>\n",
       "      <th>rsquared</th>\n",
       "    </tr>\n",
       "    <tr>\n",
       "      <th>name</th>\n",
       "      <th></th>\n",
       "      <th></th>\n",
       "    </tr>\n",
       "  </thead>\n",
       "  <tbody>\n",
       "    <tr>\n",
       "      <td>lnchprg</td>\n",
       "      <td>2.746609e-18</td>\n",
       "      <td>0.171034</td>\n",
       "    </tr>\n",
       "    <tr>\n",
       "      <td>expend</td>\n",
       "      <td>2.273005e-04</td>\n",
       "      <td>0.032960</td>\n",
       "    </tr>\n",
       "    <tr>\n",
       "      <td>salary</td>\n",
       "      <td>1.027859e-06</td>\n",
       "      <td>0.057178</td>\n",
       "    </tr>\n",
       "    <tr>\n",
       "      <td>droprate</td>\n",
       "      <td>2.545272e-04</td>\n",
       "      <td>0.032454</td>\n",
       "    </tr>\n",
       "    <tr>\n",
       "      <td>gradrate</td>\n",
       "      <td>4.747924e-07</td>\n",
       "      <td>0.060633</td>\n",
       "    </tr>\n",
       "    <tr>\n",
       "      <td>sci11</td>\n",
       "      <td>3.978635e-06</td>\n",
       "      <td>0.051113</td>\n",
       "    </tr>\n",
       "    <tr>\n",
       "      <td>totcomp</td>\n",
       "      <td>6.013992e-06</td>\n",
       "      <td>0.049260</td>\n",
       "    </tr>\n",
       "    <tr>\n",
       "      <td>ltotcomp</td>\n",
       "      <td>1.745001e-06</td>\n",
       "      <td>0.054808</td>\n",
       "    </tr>\n",
       "    <tr>\n",
       "      <td>lexpend</td>\n",
       "      <td>4.752072e-04</td>\n",
       "      <td>0.029663</td>\n",
       "    </tr>\n",
       "    <tr>\n",
       "      <td>lsalary</td>\n",
       "      <td>4.111765e-07</td>\n",
       "      <td>0.061275</td>\n",
       "    </tr>\n",
       "  </tbody>\n",
       "</table>\n",
       "</div>"
      ],
      "text/plain": [
       "                pvalue  rsquared\n",
       "name                            \n",
       "lnchprg   2.746609e-18  0.171034\n",
       "expend    2.273005e-04  0.032960\n",
       "salary    1.027859e-06  0.057178\n",
       "droprate  2.545272e-04  0.032454\n",
       "gradrate  4.747924e-07  0.060633\n",
       "sci11     3.978635e-06  0.051113\n",
       "totcomp   6.013992e-06  0.049260\n",
       "ltotcomp  1.745001e-06  0.054808\n",
       "lexpend   4.752072e-04  0.029663\n",
       "lsalary   4.111765e-07  0.061275"
      ]
     },
     "execution_count": 16,
     "metadata": {},
     "output_type": "execute_result"
    }
   ],
   "source": [
    "selected = variable_df[mask1&mask2].index\n",
    "variable_df[mask1&mask2]"
   ]
  },
  {
   "cell_type": "code",
   "execution_count": 17,
   "metadata": {},
   "outputs": [
    {
     "name": "stdout",
     "output_type": "stream",
     "text": [
      "                            OLS Regression Results                            \n",
      "==============================================================================\n",
      "Dep. Variable:                 math10   R-squared:                       0.236\n",
      "Model:                            OLS   Adj. R-squared:                  0.217\n",
      "Method:                 Least Squares   F-statistic:                     12.29\n",
      "Date:                Tue, 25 May 2021   Prob (F-statistic):           1.28e-18\n",
      "Time:                        01:41:51   Log-Likelihood:                -1482.5\n",
      "No. Observations:                 408   AIC:                             2987.\n",
      "Df Residuals:                     397   BIC:                             3031.\n",
      "Df Model:                          10                                         \n",
      "Covariance Type:            nonrobust                                         \n",
      "==============================================================================\n",
      "                 coef    std err          t      P>|t|      [0.025      0.975]\n",
      "------------------------------------------------------------------------------\n",
      "const       -190.5173    300.977     -0.633      0.527    -782.226     401.191\n",
      "lnchprg       -0.2354      0.043     -5.473      0.000      -0.320      -0.151\n",
      "expend         0.0191      0.006      3.061      0.002       0.007       0.031\n",
      "salary         0.0052      0.003      1.984      0.048    4.69e-05       0.010\n",
      "droprate      -0.0070      0.122     -0.057      0.954      -0.246       0.232\n",
      "gradrate       0.1018      0.051      2.002      0.046       0.002       0.202\n",
      "sci11          0.0483      0.041      1.173      0.241      -0.033       0.129\n",
      "totcomp       -0.0064      0.002     -2.780      0.006      -0.011      -0.002\n",
      "ltotcomp     244.9815     89.334      2.742      0.006      69.354     420.609\n",
      "lexpend      -85.5177     29.955     -2.855      0.005    -144.407     -26.628\n",
      "lsalary     -160.5624     84.296     -1.905      0.058    -326.284       5.159\n",
      "==============================================================================\n",
      "Omnibus:                       45.574   Durbin-Watson:                   1.940\n",
      "Prob(Omnibus):                  0.000   Jarque-Bera (JB):               67.468\n",
      "Skew:                           0.748   Prob(JB):                     2.24e-15\n",
      "Kurtosis:                       4.317   Cond. No.                     3.33e+07\n",
      "==============================================================================\n",
      "\n",
      "Warnings:\n",
      "[1] Standard Errors assume that the covariance matrix of the errors is correctly specified.\n",
      "[2] The condition number is large, 3.33e+07. This might indicate that there are\n",
      "strong multicollinearity or other numerical problems.\n"
     ]
    }
   ],
   "source": [
    "result1 = regression(df[selected],math10) \n",
    "print(result1.summary())"
   ]
  },
  {
   "cell_type": "markdown",
   "metadata": {},
   "source": [
    "再挑出 P-value<0.05的"
   ]
  },
  {
   "cell_type": "code",
   "execution_count": 18,
   "metadata": {},
   "outputs": [],
   "source": [
    "selected2 = result1.pvalues[result1.pvalues<0.05].index"
   ]
  },
  {
   "cell_type": "code",
   "execution_count": 19,
   "metadata": {},
   "outputs": [],
   "source": [
    "result2 = regression(df[selected2],math10)"
   ]
  },
  {
   "cell_type": "code",
   "execution_count": 20,
   "metadata": {},
   "outputs": [
    {
     "name": "stdout",
     "output_type": "stream",
     "text": [
      "                            OLS Regression Results                            \n",
      "==============================================================================\n",
      "Dep. Variable:                 math10   R-squared:                       0.226\n",
      "Model:                            OLS   Adj. R-squared:                  0.213\n",
      "Method:                 Least Squares   F-statistic:                     16.70\n",
      "Date:                Tue, 25 May 2021   Prob (F-statistic):           2.37e-19\n",
      "Time:                        01:41:52   Log-Likelihood:                -1485.2\n",
      "No. Observations:                 408   AIC:                             2986.\n",
      "Df Residuals:                     400   BIC:                             3019.\n",
      "Df Model:                           7                                         \n",
      "Covariance Type:            nonrobust                                         \n",
      "==============================================================================\n",
      "                 coef    std err          t      P>|t|      [0.025      0.975]\n",
      "------------------------------------------------------------------------------\n",
      "const        -93.6761    298.418     -0.314      0.754    -680.341     492.988\n",
      "lnchprg       -0.2507      0.039     -6.354      0.000      -0.328      -0.173\n",
      "expend         0.0207      0.006      3.333      0.001       0.008       0.033\n",
      "salary         0.0003      0.000      0.538      0.591      -0.001       0.001\n",
      "gradrate       0.1060      0.036      2.906      0.004       0.034       0.178\n",
      "totcomp       -0.0022      0.001     -2.784      0.006      -0.004      -0.001\n",
      "ltotcomp      83.1782     28.589      2.909      0.004      26.975     139.381\n",
      "lexpend      -92.5329     29.777     -3.108      0.002    -151.072     -33.994\n",
      "==============================================================================\n",
      "Omnibus:                       46.270   Durbin-Watson:                   1.917\n",
      "Prob(Omnibus):                  0.000   Jarque-Bera (JB):               68.698\n",
      "Skew:                           0.756   Prob(JB):                     1.21e-15\n",
      "Kurtosis:                       4.325   Cond. No.                     3.28e+07\n",
      "==============================================================================\n",
      "\n",
      "Warnings:\n",
      "[1] Standard Errors assume that the covariance matrix of the errors is correctly specified.\n",
      "[2] The condition number is large, 3.28e+07. This might indicate that there are\n",
      "strong multicollinearity or other numerical problems.\n"
     ]
    }
   ],
   "source": [
    "print (result2.summary())"
   ]
  },
  {
   "cell_type": "markdown",
   "metadata": {},
   "source": [
    "再篩一次 P-value<0.05"
   ]
  },
  {
   "cell_type": "code",
   "execution_count": 21,
   "metadata": {},
   "outputs": [
    {
     "name": "stdout",
     "output_type": "stream",
     "text": [
      "                            OLS Regression Results                            \n",
      "==============================================================================\n",
      "Dep. Variable:                 math10   R-squared:                       0.226\n",
      "Model:                            OLS   Adj. R-squared:                  0.214\n",
      "Method:                 Least Squares   F-statistic:                     19.47\n",
      "Date:                Tue, 25 May 2021   Prob (F-statistic):           5.87e-20\n",
      "Time:                        01:41:52   Log-Likelihood:                -1485.4\n",
      "No. Observations:                 408   AIC:                             2985.\n",
      "Df Residuals:                     401   BIC:                             3013.\n",
      "Df Model:                           6                                         \n",
      "Covariance Type:            nonrobust                                         \n",
      "==============================================================================\n",
      "                 coef    std err          t      P>|t|      [0.025      0.975]\n",
      "------------------------------------------------------------------------------\n",
      "const        -98.7071    298.008     -0.331      0.741    -684.560     487.146\n",
      "lnchprg       -0.2551      0.039     -6.611      0.000      -0.331      -0.179\n",
      "expend         0.0208      0.006      3.353      0.001       0.009       0.033\n",
      "gradrate       0.1057      0.036      2.901      0.004       0.034       0.177\n",
      "totcomp       -0.0021      0.001     -2.821      0.005      -0.003      -0.001\n",
      "ltotcomp      84.0447     28.518      2.947      0.003      27.981     140.109\n",
      "lexpend      -92.9296     29.741     -3.125      0.002    -151.398     -34.461\n",
      "==============================================================================\n",
      "Omnibus:                       45.327   Durbin-Watson:                   1.916\n",
      "Prob(Omnibus):                  0.000   Jarque-Bera (JB):               66.519\n",
      "Skew:                           0.748   Prob(JB):                     3.59e-15\n",
      "Kurtosis:                       4.294   Cond. No.                     2.53e+07\n",
      "==============================================================================\n",
      "\n",
      "Warnings:\n",
      "[1] Standard Errors assume that the covariance matrix of the errors is correctly specified.\n",
      "[2] The condition number is large, 2.53e+07. This might indicate that there are\n",
      "strong multicollinearity or other numerical problems.\n"
     ]
    }
   ],
   "source": [
    "selected3 = result2.pvalues[result2.pvalues<0.05].index\n",
    "result3 = regression(df[selected3],math10)\n",
    "print(result3.summary())"
   ]
  },
  {
   "cell_type": "markdown",
   "metadata": {},
   "source": [
    "## 僅用R-square篩選"
   ]
  },
  {
   "cell_type": "code",
   "execution_count": 22,
   "metadata": {},
   "outputs": [
    {
     "data": {
      "text/plain": [
       "{'benefits', 'bensal', 'enroll', 'lenroll'}"
      ]
     },
     "execution_count": 22,
     "metadata": {},
     "output_type": "execute_result"
    }
   ],
   "source": [
    "setA = set(variable_df[variable_df['rsquared']>0.01].index)\n",
    "setB = set(variable_df[variable_df['rsquared']>0.001].index)\n",
    "setB-setA"
   ]
  },
  {
   "cell_type": "code",
   "execution_count": 23,
   "metadata": {},
   "outputs": [
    {
     "name": "stdout",
     "output_type": "stream",
     "text": [
      "                            OLS Regression Results                            \n",
      "==============================================================================\n",
      "Dep. Variable:                 math10   R-squared:                       0.236\n",
      "Model:                            OLS   Adj. R-squared:                  0.217\n",
      "Method:                 Least Squares   F-statistic:                     12.29\n",
      "Date:                Tue, 25 May 2021   Prob (F-statistic):           1.28e-18\n",
      "Time:                        01:41:52   Log-Likelihood:                -1482.5\n",
      "No. Observations:                 408   AIC:                             2987.\n",
      "Df Residuals:                     397   BIC:                             3031.\n",
      "Df Model:                          10                                         \n",
      "Covariance Type:            nonrobust                                         \n",
      "==============================================================================\n",
      "                 coef    std err          t      P>|t|      [0.025      0.975]\n",
      "------------------------------------------------------------------------------\n",
      "const       -190.5173    300.977     -0.633      0.527    -782.226     401.191\n",
      "lnchprg       -0.2354      0.043     -5.473      0.000      -0.320      -0.151\n",
      "expend         0.0191      0.006      3.061      0.002       0.007       0.031\n",
      "salary         0.0052      0.003      1.984      0.048    4.69e-05       0.010\n",
      "droprate      -0.0070      0.122     -0.057      0.954      -0.246       0.232\n",
      "gradrate       0.1018      0.051      2.002      0.046       0.002       0.202\n",
      "sci11          0.0483      0.041      1.173      0.241      -0.033       0.129\n",
      "totcomp       -0.0064      0.002     -2.780      0.006      -0.011      -0.002\n",
      "ltotcomp     244.9815     89.334      2.742      0.006      69.354     420.609\n",
      "lexpend      -85.5177     29.955     -2.855      0.005    -144.407     -26.628\n",
      "lsalary     -160.5624     84.296     -1.905      0.058    -326.284       5.159\n",
      "==============================================================================\n",
      "Omnibus:                       45.574   Durbin-Watson:                   1.940\n",
      "Prob(Omnibus):                  0.000   Jarque-Bera (JB):               67.468\n",
      "Skew:                           0.748   Prob(JB):                     2.24e-15\n",
      "Kurtosis:                       4.317   Cond. No.                     3.33e+07\n",
      "==============================================================================\n",
      "\n",
      "Warnings:\n",
      "[1] Standard Errors assume that the covariance matrix of the errors is correctly specified.\n",
      "[2] The condition number is large, 3.33e+07. This might indicate that there are\n",
      "strong multicollinearity or other numerical problems.\n"
     ]
    }
   ],
   "source": [
    "selected_1a = variable_df[variable_df['rsquared']>0.01].index\n",
    "result_1a = regression(df[selected_1a],math10)\n",
    "print (result_1a.summary())"
   ]
  },
  {
   "cell_type": "code",
   "execution_count": 24,
   "metadata": {},
   "outputs": [
    {
     "name": "stdout",
     "output_type": "stream",
     "text": [
      "                            OLS Regression Results                            \n",
      "==============================================================================\n",
      "Dep. Variable:                 math10   R-squared:                       0.271\n",
      "Model:                            OLS   Adj. R-squared:                  0.246\n",
      "Method:                 Least Squares   F-statistic:                     11.24\n",
      "Date:                Tue, 25 May 2021   Prob (F-statistic):           1.33e-20\n",
      "Time:                        01:41:52   Log-Likelihood:                -1473.2\n",
      "No. Observations:                 408   AIC:                             2974.\n",
      "Df Residuals:                     394   BIC:                             3031.\n",
      "Df Model:                          13                                         \n",
      "Covariance Type:            nonrobust                                         \n",
      "==============================================================================\n",
      "                 coef    std err          t      P>|t|      [0.025      0.975]\n",
      "------------------------------------------------------------------------------\n",
      "const       -360.7214    297.992     -1.211      0.227    -946.575     225.133\n",
      "lnchprg       -0.2655      0.043     -6.126      0.000      -0.351      -0.180\n",
      "enroll         0.0010      0.000      2.688      0.008       0.000       0.002\n",
      "expend         0.0187      0.006      3.047      0.002       0.007       0.031\n",
      "salary         0.0023      0.001      1.914      0.056   -6.34e-05       0.005\n",
      "benefits      -0.0057      0.002     -3.053      0.002      -0.009      -0.002\n",
      "droprate       0.0288      0.120      0.240      0.810      -0.207       0.265\n",
      "gradrate       0.0982      0.050      1.956      0.051      -0.000       0.197\n",
      "sci11          0.0369      0.040      0.912      0.362      -0.043       0.117\n",
      "totcomp       -0.0033      0.001     -4.135      0.000      -0.005      -0.002\n",
      "ltotcomp     833.2335    345.473      2.412      0.016     154.032    1512.435\n",
      "lexpend      -88.9823     29.551     -3.011      0.003    -147.079     -30.886\n",
      "lenroll       -4.6366      1.204     -3.851      0.000      -7.004      -2.269\n",
      "bensal      -406.8784    241.240     -1.687      0.092    -881.158      67.401\n",
      "lsalary     -727.5296    345.810     -2.104      0.036   -1407.393     -47.667\n",
      "==============================================================================\n",
      "Omnibus:                       31.205   Durbin-Watson:                   1.939\n",
      "Prob(Omnibus):                  0.000   Jarque-Bera (JB):               43.104\n",
      "Skew:                           0.574   Prob(JB):                     4.37e-10\n",
      "Kurtosis:                       4.103   Cond. No.                     1.01e+16\n",
      "==============================================================================\n",
      "\n",
      "Warnings:\n",
      "[1] Standard Errors assume that the covariance matrix of the errors is correctly specified.\n",
      "[2] The smallest eigenvalue is 1.04e-20. This might indicate that there are\n",
      "strong multicollinearity problems or that the design matrix is singular.\n"
     ]
    }
   ],
   "source": [
    "selected_1b = variable_df[variable_df['rsquared']>0.001].index\n",
    "result_1b = regression(df[selected_1b],math10)\n",
    "print (result_1b.summary())"
   ]
  },
  {
   "cell_type": "markdown",
   "metadata": {},
   "source": [
    "結論:\n",
    "若使用單一變數X的p-value顯著程度與其R-squared來去捨，\n",
    "模型明顯會遺失一些解釋能力($0.277\\rightarrow0.236\\rightarrow0.226$)；\n",
    "\n",
    "而若只考慮R-squared較低的變數被移除之後({'benefits', 'bensal', 'enroll', 'lenroll'})，\n",
    "還是可以發現他們影響力不小($0.271\\rightarrow0.236$)\n",
    "\n",
    "因此，需更進一步去探討OVB、Multicollinearity、Quadratics去挑選自變數"
   ]
  },
  {
   "cell_type": "markdown",
   "metadata": {},
   "source": [
    "## OVB 舉例\n",
    "由於自變數項很多，挑兩個p-value顯著的來測試，以 expand,salary為例"
   ]
  },
  {
   "cell_type": "code",
   "execution_count": 25,
   "metadata": {},
   "outputs": [],
   "source": [
    "expend = df['expend']\n",
    "salary = df['salary']\n",
    "X = pd.concat([expend,salary],axis=1)\n",
    "y = math10"
   ]
  },
  {
   "cell_type": "markdown",
   "metadata": {},
   "source": [
    "### $ y = \\beta_0 + \\beta_1 x_1+\\beta_2 x_2+u $\n",
    "### $ y = \\beta_0 + \\tilde{\\beta_1} x_1+u $\n",
    "### $ x_2 = \\delta_0+\\delta_1 x_1+v $\n",
    "### $ y = \\beta_0 + \\beta_1 x_1+\\color{red}{\\beta_2 (\\delta_0+\\delta_1 x_1+v)}+u $\n",
    "\n",
    "### $ \\tilde{\\beta_1} = \\hat{\\beta_1}+\\hat{\\beta_2}\\tilde{\\delta_1}$\n",
    "### $ \\hat{\\beta_2}\\tilde{\\delta_1} \\rightarrow bias$\n"
   ]
  },
  {
   "cell_type": "code",
   "execution_count": 26,
   "metadata": {},
   "outputs": [
    {
     "name": "stdout",
     "output_type": "stream",
     "text": [
      "                            OLS Regression Results                            \n",
      "==============================================================================\n",
      "Dep. Variable:                 math10   R-squared:                       0.058\n",
      "Model:                            OLS   Adj. R-squared:                  0.054\n",
      "Method:                 Least Squares   F-statistic:                     12.55\n",
      "Date:                Tue, 25 May 2021   Prob (F-statistic):           5.15e-06\n",
      "Time:                        01:41:53   Log-Likelihood:                -1525.3\n",
      "No. Observations:                 408   AIC:                             3057.\n",
      "Df Residuals:                     405   BIC:                             3069.\n",
      "Df Model:                           2                                         \n",
      "Covariance Type:            nonrobust                                         \n",
      "==============================================================================\n",
      "                 coef    std err          t      P>|t|      [0.025      0.975]\n",
      "------------------------------------------------------------------------------\n",
      "const          7.5525      3.390      2.228      0.026       0.889      14.216\n",
      "expend         0.0006      0.001      0.711      0.477      -0.001       0.002\n",
      "salary         0.0004      0.000      3.305      0.001       0.000       0.001\n",
      "==============================================================================\n",
      "Omnibus:                       36.740   Durbin-Watson:                   1.688\n",
      "Prob(Omnibus):                  0.000   Jarque-Bera (JB):               50.789\n",
      "Skew:                           0.655   Prob(JB):                     9.36e-12\n",
      "Kurtosis:                       4.128   Cond. No.                     2.18e+05\n",
      "==============================================================================\n",
      "\n",
      "Warnings:\n",
      "[1] Standard Errors assume that the covariance matrix of the errors is correctly specified.\n",
      "[2] The condition number is large, 2.18e+05. This might indicate that there are\n",
      "strong multicollinearity or other numerical problems.\n"
     ]
    }
   ],
   "source": [
    "model = regression(X=X,y=y)\n",
    "print(model.summary())"
   ]
  },
  {
   "cell_type": "code",
   "execution_count": 27,
   "metadata": {},
   "outputs": [],
   "source": [
    "ovb_1 = regression(X=salary,y = expend)"
   ]
  },
  {
   "cell_type": "code",
   "execution_count": 28,
   "metadata": {},
   "outputs": [
    {
     "name": "stdout",
     "output_type": "stream",
     "text": [
      "                            OLS Regression Results                            \n",
      "==============================================================================\n",
      "Dep. Variable:                 expend   R-squared:                       0.423\n",
      "Model:                            OLS   Adj. R-squared:                  0.421\n",
      "Method:                 Least Squares   F-statistic:                     297.5\n",
      "Date:                Tue, 25 May 2021   Prob (F-statistic):           2.09e-50\n",
      "Time:                        01:41:53   Log-Likelihood:                -3181.1\n",
      "No. Observations:                 408   AIC:                             6366.\n",
      "Df Residuals:                     406   BIC:                             6374.\n",
      "Df Model:                           1                                         \n",
      "Covariance Type:            nonrobust                                         \n",
      "==============================================================================\n",
      "                 coef    std err          t      P>|t|      [0.025      0.975]\n",
      "------------------------------------------------------------------------------\n",
      "const       1194.9492    186.761      6.398      0.000     827.810    1562.088\n",
      "salary         0.1001      0.006     17.248      0.000       0.089       0.112\n",
      "==============================================================================\n",
      "Omnibus:                      101.990   Durbin-Watson:                   2.051\n",
      "Prob(Omnibus):                  0.000   Jarque-Bera (JB):              236.337\n",
      "Skew:                           1.260   Prob(JB):                     4.79e-52\n",
      "Kurtosis:                       5.749   Cond. No.                     2.06e+05\n",
      "==============================================================================\n",
      "\n",
      "Warnings:\n",
      "[1] Standard Errors assume that the covariance matrix of the errors is correctly specified.\n",
      "[2] The condition number is large, 2.06e+05. This might indicate that there are\n",
      "strong multicollinearity or other numerical problems.\n"
     ]
    }
   ],
   "source": [
    "print(ovb_1.summary())"
   ]
  },
  {
   "cell_type": "markdown",
   "metadata": {},
   "source": [
    "### $\\tilde{\\delta_1}=0.1001$"
   ]
  },
  {
   "cell_type": "markdown",
   "metadata": {},
   "source": [
    "這邊可以看到 warnings 裡有說，可能有 multicollinearity的問題，而expend不顯著，可能自變數挑不夠好"
   ]
  },
  {
   "cell_type": "code",
   "execution_count": 29,
   "metadata": {},
   "outputs": [],
   "source": [
    "sci11 = df['sci11']\n",
    "totcomp = df['totcomp']\n",
    "X = pd.concat([sci11,totcomp],axis=1)"
   ]
  },
  {
   "cell_type": "code",
   "execution_count": 30,
   "metadata": {},
   "outputs": [
    {
     "name": "stdout",
     "output_type": "stream",
     "text": [
      "                            OLS Regression Results                            \n",
      "==============================================================================\n",
      "Dep. Variable:                 math10   R-squared:                       0.088\n",
      "Model:                            OLS   Adj. R-squared:                  0.084\n",
      "Method:                 Least Squares   F-statistic:                     19.60\n",
      "Date:                Tue, 25 May 2021   Prob (F-statistic):           7.51e-09\n",
      "Time:                        01:41:53   Log-Likelihood:                -1518.7\n",
      "No. Observations:                 408   AIC:                             3043.\n",
      "Df Residuals:                     405   BIC:                             3055.\n",
      "Df Model:                           2                                         \n",
      "Covariance Type:            nonrobust                                         \n",
      "==============================================================================\n",
      "                 coef    std err          t      P>|t|      [0.025      0.975]\n",
      "------------------------------------------------------------------------------\n",
      "const          2.8504      3.566      0.799      0.425      -4.159       9.860\n",
      "sci11          0.1670      0.040      4.161      0.000       0.088       0.246\n",
      "totcomp        0.0003    8.4e-05      4.061      0.000       0.000       0.001\n",
      "==============================================================================\n",
      "Omnibus:                       38.606   Durbin-Watson:                   1.867\n",
      "Prob(Omnibus):                  0.000   Jarque-Bera (JB):               52.706\n",
      "Skew:                           0.688   Prob(JB):                     3.59e-12\n",
      "Kurtosis:                       4.099   Cond. No.                     2.78e+05\n",
      "==============================================================================\n",
      "\n",
      "Warnings:\n",
      "[1] Standard Errors assume that the covariance matrix of the errors is correctly specified.\n",
      "[2] The condition number is large, 2.78e+05. This might indicate that there are\n",
      "strong multicollinearity or other numerical problems.\n"
     ]
    }
   ],
   "source": [
    "print(regression(X=X,y=y).summary())"
   ]
  },
  {
   "cell_type": "markdown",
   "metadata": {},
   "source": [
    "雖然還是有warnings，但至少兩個自變數都顯著\n",
    "\n",
    "$math10 = 2.8504+0.0003\\space totcomp+0.1670\\space sci11$"
   ]
  },
  {
   "cell_type": "code",
   "execution_count": 31,
   "metadata": {},
   "outputs": [],
   "source": [
    "ovb_2 = regression(X=totcomp,y=sci11)"
   ]
  },
  {
   "cell_type": "code",
   "execution_count": 32,
   "metadata": {},
   "outputs": [
    {
     "name": "stdout",
     "output_type": "stream",
     "text": [
      "                            OLS Regression Results                            \n",
      "==============================================================================\n",
      "Dep. Variable:                  sci11   R-squared:                       0.019\n",
      "Model:                            OLS   Adj. R-squared:                  0.016\n",
      "Method:                 Least Squares   F-statistic:                     7.822\n",
      "Date:                Tue, 25 May 2021   Prob (F-statistic):            0.00541\n",
      "Time:                        01:41:54   Log-Likelihood:                -1605.8\n",
      "No. Observations:                 408   AIC:                             3216.\n",
      "Df Residuals:                     406   BIC:                             3224.\n",
      "Df Model:                           1                                         \n",
      "Covariance Type:            nonrobust                                         \n",
      "==============================================================================\n",
      "                 coef    std err          t      P>|t|      [0.025      0.975]\n",
      "------------------------------------------------------------------------------\n",
      "const         38.1816      3.981      9.590      0.000      30.355      46.008\n",
      "totcomp        0.0003      0.000      2.797      0.005    8.55e-05       0.000\n",
      "==============================================================================\n",
      "Omnibus:                        8.338   Durbin-Watson:                   1.612\n",
      "Prob(Omnibus):                  0.015   Jarque-Bera (JB):               10.284\n",
      "Skew:                          -0.208   Prob(JB):                      0.00585\n",
      "Kurtosis:                       3.657   Cond. No.                     2.51e+05\n",
      "==============================================================================\n",
      "\n",
      "Warnings:\n",
      "[1] Standard Errors assume that the covariance matrix of the errors is correctly specified.\n",
      "[2] The condition number is large, 2.51e+05. This might indicate that there are\n",
      "strong multicollinearity or other numerical problems.\n"
     ]
    }
   ],
   "source": [
    "print(ovb_2.summary())"
   ]
  },
  {
   "cell_type": "markdown",
   "metadata": {},
   "source": [
    "$sci11 = 38.1816+0.0003\\space totcomp $\n",
    "\n",
    "### $\\tilde{\\delta_1}=0.0003$"
   ]
  },
  {
   "cell_type": "code",
   "execution_count": 33,
   "metadata": {},
   "outputs": [
    {
     "name": "stdout",
     "output_type": "stream",
     "text": [
      "                            OLS Regression Results                            \n",
      "==============================================================================\n",
      "Dep. Variable:                 math10   R-squared:                       0.049\n",
      "Model:                            OLS   Adj. R-squared:                  0.047\n",
      "Method:                 Least Squares   F-statistic:                     21.04\n",
      "Date:                Tue, 25 May 2021   Prob (F-statistic):           6.01e-06\n",
      "Time:                        01:41:54   Log-Likelihood:                -1527.2\n",
      "No. Observations:                 408   AIC:                             3058.\n",
      "Df Residuals:                     406   BIC:                             3066.\n",
      "Df Model:                           1                                         \n",
      "Covariance Type:            nonrobust                                         \n",
      "==============================================================================\n",
      "                 coef    std err          t      P>|t|      [0.025      0.975]\n",
      "------------------------------------------------------------------------------\n",
      "const          9.2271      3.284      2.810      0.005       2.772      15.682\n",
      "totcomp        0.0004   8.48e-05      4.586      0.000       0.000       0.001\n",
      "==============================================================================\n",
      "Omnibus:                       39.602   Durbin-Watson:                   1.680\n",
      "Prob(Omnibus):                  0.000   Jarque-Bera (JB):               55.412\n",
      "Skew:                           0.690   Prob(JB):                     9.28e-13\n",
      "Kurtosis:                       4.163   Cond. No.                     2.51e+05\n",
      "==============================================================================\n",
      "\n",
      "Warnings:\n",
      "[1] Standard Errors assume that the covariance matrix of the errors is correctly specified.\n",
      "[2] The condition number is large, 2.51e+05. This might indicate that there are\n",
      "strong multicollinearity or other numerical problems.\n"
     ]
    }
   ],
   "source": [
    "model = regression(X=totcomp,y=math10)\n",
    "print(model.summary())"
   ]
  },
  {
   "cell_type": "markdown",
   "metadata": {},
   "source": [
    "$math10=9.2271+0.0004\\space totcomp$\n",
    "\n",
    "### $ \\tilde{\\beta_1} = \\hat{\\beta_1}+\\hat{\\beta_2}\\tilde{\\delta_1}$\n",
    "\n",
    "### $ \\widetilde{\\beta^{totcomp}} = \\widehat{\\beta^{totcomp}}+\\widehat{\\beta^{sci11}}\\tilde{\\delta_1}$\n",
    "$0.0004 = 0.0003 + 0.1670\\times0.0003$"
   ]
  },
  {
   "cell_type": "code",
   "execution_count": 34,
   "metadata": {},
   "outputs": [
    {
     "data": {
      "text/plain": [
       "0.0003501"
      ]
     },
     "execution_count": 34,
     "metadata": {},
     "output_type": "execute_result"
    }
   ],
   "source": [
    "0.0003 + 0.1670*0.0003"
   ]
  },
  {
   "cell_type": "markdown",
   "metadata": {},
   "source": [
    "## Multicolinearity & VIF\n",
    "\n",
    "這邊挑 expend,salary,droprate 為例"
   ]
  },
  {
   "cell_type": "code",
   "execution_count": 35,
   "metadata": {},
   "outputs": [],
   "source": [
    "expend = df['expend']\n",
    "salary = df['salary']\n",
    "droprate = df['droprate']\n",
    "#math10 = df['math10']\n",
    "X = pd.concat([expend,salary,droprate],axis=1)\n",
    "y = math10"
   ]
  },
  {
   "cell_type": "code",
   "execution_count": 36,
   "metadata": {},
   "outputs": [
    {
     "name": "stdout",
     "output_type": "stream",
     "text": [
      "                            OLS Regression Results                            \n",
      "==============================================================================\n",
      "Dep. Variable:                 math10   R-squared:                       0.057\n",
      "Model:                            OLS   Adj. R-squared:                  0.055\n",
      "Method:                 Least Squares   F-statistic:                     24.62\n",
      "Date:                Tue, 25 May 2021   Prob (F-statistic):           1.03e-06\n",
      "Time:                        01:41:54   Log-Likelihood:                -1525.5\n",
      "No. Observations:                 408   AIC:                             3055.\n",
      "Df Residuals:                     406   BIC:                             3063.\n",
      "Df Model:                           1                                         \n",
      "Covariance Type:            nonrobust                                         \n",
      "==============================================================================\n",
      "                 coef    std err          t      P>|t|      [0.025      0.975]\n",
      "------------------------------------------------------------------------------\n",
      "const          8.2822      3.229      2.565      0.011       1.935      14.630\n",
      "salary         0.0005      0.000      4.962      0.000       0.000       0.001\n",
      "==============================================================================\n",
      "Omnibus:                       40.874   Durbin-Watson:                   1.695\n",
      "Prob(Omnibus):                  0.000   Jarque-Bera (JB):               58.981\n",
      "Skew:                           0.694   Prob(JB):                     1.56e-13\n",
      "Kurtosis:                       4.242   Cond. No.                     2.06e+05\n",
      "==============================================================================\n",
      "\n",
      "Warnings:\n",
      "[1] Standard Errors assume that the covariance matrix of the errors is correctly specified.\n",
      "[2] The condition number is large, 2.06e+05. This might indicate that there are\n",
      "strong multicollinearity or other numerical problems.\n",
      "                            OLS Regression Results                            \n",
      "==============================================================================\n",
      "Dep. Variable:                 math10   R-squared:                       0.086\n",
      "Model:                            OLS   Adj. R-squared:                  0.079\n",
      "Method:                 Least Squares   F-statistic:                     12.64\n",
      "Date:                Tue, 25 May 2021   Prob (F-statistic):           6.48e-08\n",
      "Time:                        01:41:54   Log-Likelihood:                -1519.2\n",
      "No. Observations:                 408   AIC:                             3046.\n",
      "Df Residuals:                     404   BIC:                             3063.\n",
      "Df Model:                           3                                         \n",
      "Covariance Type:            nonrobust                                         \n",
      "==============================================================================\n",
      "                 coef    std err          t      P>|t|      [0.025      0.975]\n",
      "------------------------------------------------------------------------------\n",
      "const          9.7388      3.402      2.862      0.004       3.050      16.428\n",
      "expend         0.0008      0.001      0.948      0.344      -0.001       0.002\n",
      "salary         0.0004      0.000      2.993      0.003       0.000       0.001\n",
      "droprate      -0.3186      0.091     -3.485      0.001      -0.498      -0.139\n",
      "==============================================================================\n",
      "Omnibus:                       49.733   Durbin-Watson:                   1.795\n",
      "Prob(Omnibus):                  0.000   Jarque-Bera (JB):               74.872\n",
      "Skew:                           0.797   Prob(JB):                     5.52e-17\n",
      "Kurtosis:                       4.366   Cond. No.                     2.22e+05\n",
      "==============================================================================\n",
      "\n",
      "Warnings:\n",
      "[1] Standard Errors assume that the covariance matrix of the errors is correctly specified.\n",
      "[2] The condition number is large, 2.22e+05. This might indicate that there are\n",
      "strong multicollinearity or other numerical problems.\n"
     ]
    }
   ],
   "source": [
    "model1 = regression(salary,y)\n",
    "model2 = regression(X,y)\n",
    "print(model1.summary())\n",
    "print(model2.summary())"
   ]
  },
  {
   "cell_type": "markdown",
   "metadata": {},
   "source": [
    "$salary:0.0005\\rightarrow0.0004$"
   ]
  },
  {
   "cell_type": "code",
   "execution_count": 37,
   "metadata": {},
   "outputs": [
    {
     "data": {
      "text/html": [
       "<div>\n",
       "<style scoped>\n",
       "    .dataframe tbody tr th:only-of-type {\n",
       "        vertical-align: middle;\n",
       "    }\n",
       "\n",
       "    .dataframe tbody tr th {\n",
       "        vertical-align: top;\n",
       "    }\n",
       "\n",
       "    .dataframe thead th {\n",
       "        text-align: right;\n",
       "    }\n",
       "</style>\n",
       "<table border=\"1\" class=\"dataframe\">\n",
       "  <thead>\n",
       "    <tr style=\"text-align: right;\">\n",
       "      <th></th>\n",
       "      <th>expend</th>\n",
       "      <th>salary</th>\n",
       "      <th>droprate</th>\n",
       "    </tr>\n",
       "  </thead>\n",
       "  <tbody>\n",
       "    <tr>\n",
       "      <td>expend</td>\n",
       "      <td>1.000000</td>\n",
       "      <td>0.650296</td>\n",
       "      <td>0.002288</td>\n",
       "    </tr>\n",
       "    <tr>\n",
       "      <td>salary</td>\n",
       "      <td>0.650296</td>\n",
       "      <td>1.000000</td>\n",
       "      <td>-0.072925</td>\n",
       "    </tr>\n",
       "    <tr>\n",
       "      <td>droprate</td>\n",
       "      <td>0.002288</td>\n",
       "      <td>-0.072925</td>\n",
       "      <td>1.000000</td>\n",
       "    </tr>\n",
       "  </tbody>\n",
       "</table>\n",
       "</div>"
      ],
      "text/plain": [
       "            expend    salary  droprate\n",
       "expend    1.000000  0.650296  0.002288\n",
       "salary    0.650296  1.000000 -0.072925\n",
       "droprate  0.002288 -0.072925  1.000000"
      ]
     },
     "execution_count": 37,
     "metadata": {},
     "output_type": "execute_result"
    }
   ],
   "source": [
    "X.corr()"
   ]
  },
  {
   "cell_type": "markdown",
   "metadata": {},
   "source": [
    "### 計算個別VIF"
   ]
  },
  {
   "cell_type": "code",
   "execution_count": 38,
   "metadata": {},
   "outputs": [
    {
     "name": "stdout",
     "output_type": "stream",
     "text": [
      " expend_VIF: 1.0340839227514653 \n",
      " salary_VIF: 1.0606459313298942 \n",
      " droprate_VIF: 1.033542713091198\n"
     ]
    }
   ],
   "source": [
    "expend_VIF = 1/(1-regression(expend,math10).rsquared)\n",
    "salary_VIF = 1/(1-regression(salary,math10).rsquared)\n",
    "droprate_VIF = 1/(1-regression(droprate,math10).rsquared)\n",
    "print(' expend_VIF:',expend_VIF,'\\n','salary_VIF:',salary_VIF,'\\n','droprate_VIF:',droprate_VIF)"
   ]
  },
  {
   "cell_type": "markdown",
   "metadata": {},
   "source": [
    "expend跟droprate的VIF並沒有>10，也就是無須移除自變數expend,droprate"
   ]
  },
  {
   "cell_type": "markdown",
   "metadata": {},
   "source": [
    "## Quadratic\n",
    "用 salary, droprate, droprate^2測試"
   ]
  },
  {
   "cell_type": "code",
   "execution_count": 45,
   "metadata": {},
   "outputs": [
    {
     "name": "stdout",
     "output_type": "stream",
     "text": [
      "                            OLS Regression Results                            \n",
      "==============================================================================\n",
      "Dep. Variable:                 math10   R-squared:                       0.084\n",
      "Model:                            OLS   Adj. R-squared:                  0.079\n",
      "Method:                 Least Squares   F-statistic:                     18.52\n",
      "Date:                Tue, 25 May 2021   Prob (F-statistic):           2.01e-08\n",
      "Time:                        01:43:28   Log-Likelihood:                -1519.7\n",
      "No. Observations:                 408   AIC:                             3045.\n",
      "Df Residuals:                     405   BIC:                             3057.\n",
      "Df Model:                           2                                         \n",
      "Covariance Type:            nonrobust                                         \n",
      "==============================================================================\n",
      "                 coef    std err          t      P>|t|      [0.025      0.975]\n",
      "------------------------------------------------------------------------------\n",
      "const         10.6572      3.261      3.268      0.001       4.246      17.068\n",
      "salary         0.0005   9.93e-05      4.764      0.000       0.000       0.001\n",
      "droprate      -0.3130      0.091     -3.430      0.001      -0.492      -0.134\n",
      "==============================================================================\n",
      "Omnibus:                       54.670   Durbin-Watson:                   1.803\n",
      "Prob(Omnibus):                  0.000   Jarque-Bera (JB):               86.269\n",
      "Skew:                           0.841   Prob(JB):                     1.85e-19\n",
      "Kurtosis:                       4.499   Cond. No.                     2.10e+05\n",
      "==============================================================================\n",
      "\n",
      "Warnings:\n",
      "[1] Standard Errors assume that the covariance matrix of the errors is correctly specified.\n",
      "[2] The condition number is large, 2.1e+05. This might indicate that there are\n",
      "strong multicollinearity or other numerical problems.\n"
     ]
    }
   ],
   "source": [
    "print (regression(pd.concat([salary,droprate],axis=1),math10).summary())"
   ]
  },
  {
   "cell_type": "code",
   "execution_count": 61,
   "metadata": {},
   "outputs": [
    {
     "name": "stdout",
     "output_type": "stream",
     "text": [
      "                            OLS Regression Results                            \n",
      "==============================================================================\n",
      "Dep. Variable:                 math10   R-squared:                       0.135\n",
      "Model:                            OLS   Adj. R-squared:                  0.128\n",
      "Method:                 Least Squares   F-statistic:                     20.93\n",
      "Date:                Tue, 25 May 2021   Prob (F-statistic):           1.26e-12\n",
      "Time:                        01:49:51   Log-Likelihood:                -1508.1\n",
      "No. Observations:                 408   AIC:                             3024.\n",
      "Df Residuals:                     404   BIC:                             3040.\n",
      "Df Model:                           3                                         \n",
      "Covariance Type:            nonrobust                                         \n",
      "==============================================================================\n",
      "                 coef    std err          t      P>|t|      [0.025      0.975]\n",
      "------------------------------------------------------------------------------\n",
      "const         13.5349      3.228      4.193      0.000       7.189      19.881\n",
      "salary         0.0005   9.67e-05      4.680      0.000       0.000       0.001\n",
      "droprate      -0.9696      0.162     -6.003      0.000      -1.287      -0.652\n",
      "droprate^2     0.0197      0.004      4.867      0.000       0.012       0.028\n",
      "==============================================================================\n",
      "Omnibus:                       43.644   Durbin-Watson:                   1.826\n",
      "Prob(Omnibus):                  0.000   Jarque-Bera (JB):               61.835\n",
      "Skew:                           0.742   Prob(JB):                     3.74e-14\n",
      "Kurtosis:                       4.198   Cond. No.                     2.14e+05\n",
      "==============================================================================\n",
      "\n",
      "Warnings:\n",
      "[1] Standard Errors assume that the covariance matrix of the errors is correctly specified.\n",
      "[2] The condition number is large, 2.14e+05. This might indicate that there are\n",
      "strong multicollinearity or other numerical problems.\n"
     ]
    }
   ],
   "source": [
    "print (regression(pd.concat([salary,droprate,np.power(droprate,2).rename('droprate^2')],axis=1),math10).summary())"
   ]
  },
  {
   "cell_type": "markdown",
   "metadata": {},
   "source": [
    "$R-Squared: \\space 0.084\\rightarrow 0.135$\n",
    "\n",
    "$math10 = 10.6572 + 0.0005\\space salary - 0.3130 \\space droprate      $\n",
    "\n",
    "$math10 = 13.5349 + 0.0005\\space salary - 0.9696 \\space droprate + 0.0197droprate^2      $\n",
    "\n",
    "### $\\frac{\\Delta math10}{\\Delta droprate} = -0.9696 + 2(0.0197)droprate$"
   ]
  },
  {
   "cell_type": "markdown",
   "metadata": {},
   "source": [
    "## Stepwise Regression"
   ]
  },
  {
   "cell_type": "markdown",
   "metadata": {},
   "source": [
    "### 向前法 forward"
   ]
  },
  {
   "cell_type": "code",
   "execution_count": 181,
   "metadata": {},
   "outputs": [],
   "source": [
    "def forward_regression(X,y,critcal_p):\n",
    "    selected = []\n",
    "    iteration = 0\n",
    "    while True:\n",
    "        print('--------------iteration',str(iteration),'----------------')\n",
    "        changed = False\n",
    "        \n",
    "        #還未被選入的自變數\n",
    "        unselected = list(set(X)-set(selected))\n",
    "        print('selected',selected)\n",
    "        print('unselected:',unselected)\n",
    "        \n",
    "        #每一次迭代的pvalue\n",
    "        #格式為 col_name: pvalue, e.g. lnchprg : 2.746609039618981e-18\n",
    "        pv={}\n",
    "        \n",
    "        #從未被選入的自變數一次一個加入計算pvalue\n",
    "        #e.g.  selected :a,b,c , unselected:d,e,f , iter: abcd,abce,abcf\n",
    "        for i in unselected:\n",
    "            pv[i]= regression(pd.concat([X[selected],X[i]],axis=1),y).pvalues.iloc[-1]  #新加入的在最後一個，index = -1\n",
    "            #print(pv.items())\n",
    "        smallest_p = min(pv.items(), key=lambda x: x[1]) #這邊是 key-value的形式，比較的時候要用 value比\n",
    "        print(smallest_p[0],':',smallest_p[1]) # x[0]=col_name,x[1]=pvalue\n",
    "        if smallest_p[1] < critcal_p: #判斷有沒有超過臨界值\n",
    "            selected.append(smallest_p[0])\n",
    "            print('select:',smallest_p[0])\n",
    "            changed = True\n",
    "        else:\n",
    "            print('do not select:',smallest_p[0])\n",
    "        if changed==False:\n",
    "            print('--------------    end    ----------------')\n",
    "            break\n",
    "        iteration = iteration+1\n",
    "    return selected"
   ]
  },
  {
   "cell_type": "code",
   "execution_count": 226,
   "metadata": {},
   "outputs": [
    {
     "name": "stdout",
     "output_type": "stream",
     "text": [
      "--------------iteration 0 ----------------\n",
      "selected []\n",
      "unselected: ['enroll', 'salary', 'lenroll', 'lnchprg', 'lsalary', 'benefits', 'totcomp', 'lexpend', 'staff', 'ltotcomp', 'lstaff', 'gradrate', 'sci11', 'bensal', 'expend', 'droprate']\n",
      "lnchprg : 2.746609039618981e-18\n",
      "select: lnchprg\n",
      "--------------iteration 1 ----------------\n",
      "selected ['lnchprg']\n",
      "unselected: ['enroll', 'salary', 'lenroll', 'lsalary', 'benefits', 'totcomp', 'lexpend', 'staff', 'ltotcomp', 'lstaff', 'gradrate', 'sci11', 'bensal', 'expend', 'droprate']\n",
      "gradrate : 0.007008764108634065\n",
      "select: gradrate\n",
      "--------------iteration 2 ----------------\n",
      "selected ['lnchprg', 'gradrate']\n",
      "unselected: ['enroll', 'salary', 'lenroll', 'lsalary', 'benefits', 'totcomp', 'lexpend', 'staff', 'ltotcomp', 'lstaff', 'sci11', 'bensal', 'expend', 'droprate']\n",
      "expend : 0.014688604564107706\n",
      "select: expend\n",
      "--------------iteration 3 ----------------\n",
      "selected ['lnchprg', 'gradrate', 'expend']\n",
      "unselected: ['enroll', 'salary', 'lenroll', 'lsalary', 'benefits', 'totcomp', 'lexpend', 'staff', 'ltotcomp', 'lstaff', 'sci11', 'bensal', 'droprate']\n",
      "lexpend : 0.022123090455700246\n",
      "select: lexpend\n",
      "--------------iteration 4 ----------------\n",
      "selected ['lnchprg', 'gradrate', 'expend', 'lexpend']\n",
      "unselected: ['benefits', 'totcomp', 'staff', 'enroll', 'salary', 'lenroll', 'ltotcomp', 'lstaff', 'sci11', 'bensal', 'lsalary', 'droprate']\n",
      "lenroll : 0.07731559055328079\n",
      "do not select: lenroll\n",
      "--------------    end    ----------------\n",
      "                            OLS Regression Results                            \n",
      "==============================================================================\n",
      "Dep. Variable:                 math10   R-squared:                       0.208\n",
      "Model:                            OLS   Adj. R-squared:                  0.200\n",
      "Method:                 Least Squares   F-statistic:                     26.47\n",
      "Date:                Tue, 25 May 2021   Prob (F-statistic):           1.64e-19\n",
      "Time:                        05:27:11   Log-Likelihood:                -1489.9\n",
      "No. Observations:                 408   AIC:                             2990.\n",
      "Df Residuals:                     403   BIC:                             3010.\n",
      "Df Model:                           4                                         \n",
      "Covariance Type:            nonrobust                                         \n",
      "==============================================================================\n",
      "                 coef    std err          t      P>|t|      [0.025      0.975]\n",
      "------------------------------------------------------------------------------\n",
      "const        505.1638    213.124      2.370      0.018      86.190     924.137\n",
      "lnchprg       -0.2753      0.037     -7.492      0.000      -0.348      -0.203\n",
      "gradrate       0.1019      0.037      2.775      0.006       0.030       0.174\n",
      "expend         0.0151      0.006      2.538      0.012       0.003       0.027\n",
      "lexpend      -65.5574     28.539     -2.297      0.022    -121.661      -9.454\n",
      "==============================================================================\n",
      "Omnibus:                       44.814   Durbin-Watson:                   1.942\n",
      "Prob(Omnibus):                  0.000   Jarque-Bera (JB):               65.146\n",
      "Skew:                           0.746   Prob(JB):                     7.14e-15\n",
      "Kurtosis:                       4.268   Cond. No.                     2.06e+06\n",
      "==============================================================================\n",
      "\n",
      "Warnings:\n",
      "[1] Standard Errors assume that the covariance matrix of the errors is correctly specified.\n",
      "[2] The condition number is large, 2.06e+06. This might indicate that there are\n",
      "strong multicollinearity or other numerical problems.\n"
     ]
    }
   ],
   "source": [
    "f_selected = forward_regression(df,math10,0.05)\n",
    "print(regression(df[f_selected],math10).summary())"
   ]
  },
  {
   "cell_type": "markdown",
   "metadata": {},
   "source": [
    "### 向後法 backward "
   ]
  },
  {
   "cell_type": "code",
   "execution_count": 230,
   "metadata": {},
   "outputs": [],
   "source": [
    "def backward_regression(X,y,critcal_p):\n",
    "    excluded = []\n",
    "    iteration = 0\n",
    "    while True:\n",
    "        print('--------------iteration',str(iteration),'----------------')\n",
    "        change=False\n",
    "        pv={}\n",
    "        included = list(set(X)-set(excluded))\n",
    "        print('excluded:',excluded)\n",
    "        print('included:',included)\n",
    "        pv = dict(regression(X[included],y).pvalues[1:])  #不要const\n",
    "        max_p = max(pv.items(),key=lambda x:x[1])\n",
    "        print (max_p[0],':',max_p[1])\n",
    "        if max_p[1] > critcal_p:\n",
    "            excluded.append(max_p[0])\n",
    "            change=True\n",
    "            print('exclude:',max_p[0])\n",
    "        else:\n",
    "            print('do not exclude:',max_p[0])\n",
    "        if change == False:\n",
    "            break\n",
    "        iteration = iteration+1\n",
    "    return list(set(X)-set(excluded))"
   ]
  },
  {
   "cell_type": "code",
   "execution_count": 231,
   "metadata": {},
   "outputs": [
    {
     "name": "stdout",
     "output_type": "stream",
     "text": [
      "--------------iteration 0 ----------------\n",
      "excluded: []\n",
      "included: ['enroll', 'salary', 'lenroll', 'lnchprg', 'lsalary', 'benefits', 'totcomp', 'lexpend', 'staff', 'ltotcomp', 'lstaff', 'gradrate', 'sci11', 'bensal', 'expend', 'droprate']\n",
      "droprate : 0.7223388710430864\n",
      "exclude: droprate\n",
      "--------------iteration 1 ----------------\n",
      "excluded: ['droprate']\n",
      "included: ['enroll', 'salary', 'lenroll', 'lnchprg', 'lsalary', 'benefits', 'totcomp', 'lexpend', 'staff', 'ltotcomp', 'lstaff', 'gradrate', 'sci11', 'bensal', 'expend']\n",
      "lstaff : 0.5239365578473953\n",
      "exclude: lstaff\n",
      "--------------iteration 2 ----------------\n",
      "excluded: ['droprate', 'lstaff']\n",
      "included: ['enroll', 'salary', 'lenroll', 'lnchprg', 'lsalary', 'benefits', 'totcomp', 'lexpend', 'staff', 'ltotcomp', 'gradrate', 'sci11', 'bensal', 'expend']\n",
      "sci11 : 0.40058048755566833\n",
      "exclude: sci11\n",
      "--------------iteration 3 ----------------\n",
      "excluded: ['droprate', 'lstaff', 'sci11']\n",
      "included: ['enroll', 'salary', 'lenroll', 'lnchprg', 'lsalary', 'benefits', 'totcomp', 'lexpend', 'staff', 'ltotcomp', 'gradrate', 'bensal', 'expend']\n",
      "bensal : 0.0790390844260314\n",
      "exclude: bensal\n",
      "--------------iteration 4 ----------------\n",
      "excluded: ['droprate', 'lstaff', 'sci11', 'bensal']\n",
      "included: ['benefits', 'totcomp', 'lexpend', 'staff', 'salary', 'lenroll', 'ltotcomp', 'gradrate', 'lnchprg', 'lsalary', 'expend', 'enroll']\n",
      "salary : 0.1943484365280297\n",
      "exclude: salary\n",
      "--------------iteration 5 ----------------\n",
      "excluded: ['droprate', 'lstaff', 'sci11', 'bensal', 'salary']\n",
      "included: ['benefits', 'totcomp', 'lexpend', 'staff', 'lenroll', 'ltotcomp', 'gradrate', 'lnchprg', 'lsalary', 'expend', 'enroll']\n",
      "totcomp : 0.12202816529373804\n",
      "exclude: totcomp\n",
      "--------------iteration 6 ----------------\n",
      "excluded: ['droprate', 'lstaff', 'sci11', 'bensal', 'salary', 'totcomp']\n",
      "included: ['benefits', 'lexpend', 'staff', 'lenroll', 'ltotcomp', 'gradrate', 'lnchprg', 'lsalary', 'expend', 'enroll']\n",
      "staff : 0.051575989224971294\n",
      "exclude: staff\n",
      "--------------iteration 7 ----------------\n",
      "excluded: ['droprate', 'lstaff', 'sci11', 'bensal', 'salary', 'totcomp', 'staff']\n",
      "included: ['benefits', 'lexpend', 'lenroll', 'ltotcomp', 'gradrate', 'lnchprg', 'lsalary', 'expend', 'enroll']\n",
      "gradrate : 0.026523004023631905\n",
      "do not exclude: gradrate\n",
      "                            OLS Regression Results                            \n",
      "==============================================================================\n",
      "Dep. Variable:                 math10   R-squared:                       0.258\n",
      "Model:                            OLS   Adj. R-squared:                  0.241\n",
      "Method:                 Least Squares   F-statistic:                     15.35\n",
      "Date:                Tue, 25 May 2021   Prob (F-statistic):           1.63e-21\n",
      "Time:                        05:30:37   Log-Likelihood:                -1476.8\n",
      "No. Observations:                 408   AIC:                             2974.\n",
      "Df Residuals:                     398   BIC:                             3014.\n",
      "Df Model:                           9                                         \n",
      "Covariance Type:            nonrobust                                         \n",
      "==============================================================================\n",
      "                 coef    std err          t      P>|t|      [0.025      0.975]\n",
      "------------------------------------------------------------------------------\n",
      "const        -12.4560    247.307     -0.050      0.960    -498.647     473.735\n",
      "benefits      -0.0078      0.002     -3.554      0.000      -0.012      -0.003\n",
      "lexpend      -83.1619     28.302     -2.938      0.003    -138.803     -27.521\n",
      "lenroll       -4.3791      1.191     -3.677      0.000      -6.720      -2.038\n",
      "ltotcomp     304.7115     85.983      3.544      0.000     135.674     473.749\n",
      "gradrate       0.0806      0.036      2.227      0.027       0.009       0.152\n",
      "lnchprg       -0.2889      0.040     -7.288      0.000      -0.367      -0.211\n",
      "lsalary     -238.8610     71.181     -3.356      0.001    -378.799     -98.923\n",
      "expend         0.0173      0.006      2.952      0.003       0.006       0.029\n",
      "enroll         0.0009      0.000      2.564      0.011       0.000       0.002\n",
      "==============================================================================\n",
      "Omnibus:                       30.296   Durbin-Watson:                   1.923\n",
      "Prob(Omnibus):                  0.000   Jarque-Bera (JB):               39.937\n",
      "Skew:                           0.581   Prob(JB):                     2.13e-09\n",
      "Kurtosis:                       4.000   Cond. No.                     4.79e+06\n",
      "==============================================================================\n",
      "\n",
      "Warnings:\n",
      "[1] Standard Errors assume that the covariance matrix of the errors is correctly specified.\n",
      "[2] The condition number is large, 4.79e+06. This might indicate that there are\n",
      "strong multicollinearity or other numerical problems.\n"
     ]
    }
   ],
   "source": [
    "b_selected = backward_regression(df,math10,0.05)\n",
    "print(regression(df[b_selected],math10).summary())"
   ]
  },
  {
   "cell_type": "markdown",
   "metadata": {},
   "source": [
    "### 逐步法 stepwise "
   ]
  },
  {
   "cell_type": "code",
   "execution_count": 275,
   "metadata": {},
   "outputs": [],
   "source": [
    "def stepwise_regression(X,y,critcal_p):\n",
    "    selected = []\n",
    "    iteration = 0\n",
    "    while True:\n",
    "        print('--------------iteration',str(iteration),'----------------')\n",
    "        changed = False\n",
    "        \n",
    "        #還未被選入的自變數\n",
    "        unselected = list(set(X)-set(selected))\n",
    "        print('selected',selected)\n",
    "        print('unselected:',unselected)\n",
    "        \n",
    "        #每一次迭代的pvalue\n",
    "        #格式為 col_name: pvalue, e.g. lnchprg : 2.746609039618981e-18\n",
    "        pv={}\n",
    "        \n",
    "        #從未被選入的自變數一次一個加入計算pvalue\n",
    "        #e.g.  selected :a,b,c , unselected:d,e,f , iter: abcd,abce,abcf\n",
    "        for i in unselected:\n",
    "            pv[i]= regression(pd.concat([X[selected],X[i]],axis=1),y).pvalues.iloc[-1]  #新加入的在最後一個，index = -1\n",
    "            #print(pv.items())\n",
    "        smallest_p = min(pv.items(), key=lambda x: x[1]) #這邊是 key-value的形式，比較的時候要用 value比\n",
    "        print(smallest_p[0],':',smallest_p[1]) # x[0]=col_name,x[1]=pvalue\n",
    "        if smallest_p[1] < critcal_p: #判斷有沒有超過臨界值\n",
    "            selected.append(smallest_p[0])\n",
    "            print('select:',smallest_p[0])\n",
    "            changed = True\n",
    "        else:\n",
    "            print('do not select:',smallest_p[0])\n",
    "            \n",
    "        #如果新自變數加入而導致有一自變數 pvalue>0.05要記得移除\n",
    "        allpv = regression(X[selected],y).pvalues[1:] #不要const\n",
    "        curr_p = dict(allpv)\n",
    "        print('curr_p',curr_p) #現在有被選到的自變數對應的 pvalue\n",
    "        curr_max_p = max(dict(curr_p).items(),key=lambda x:x[1])\n",
    "        print('curr_max_p',curr_max_p)\n",
    "        if curr_max_p[1] > critcal_p: #如果最不顯著者大於臨界值就要請他走\n",
    "            selected.remove(curr_max_p[0])\n",
    "            print('remove:',curr_max_p[0]) \n",
    "            changed = True\n",
    "\n",
    "        if changed==False:\n",
    "            print('--------------    end    ----------------')\n",
    "            break\n",
    "        iteration = iteration+1\n",
    "    return selected\n"
   ]
  },
  {
   "cell_type": "code",
   "execution_count": 277,
   "metadata": {},
   "outputs": [
    {
     "name": "stdout",
     "output_type": "stream",
     "text": [
      "--------------iteration 0 ----------------\n",
      "selected []\n",
      "unselected: ['enroll', 'salary', 'lenroll', 'lnchprg', 'lsalary', 'benefits', 'totcomp', 'lexpend', 'staff', 'ltotcomp', 'lstaff', 'gradrate', 'sci11', 'bensal', 'expend', 'droprate']\n",
      "lnchprg : 2.746609039618981e-18\n",
      "select: lnchprg\n",
      "curr_p {'lnchprg': 2.746609039618981e-18}\n",
      "curr_max_p ('lnchprg', 2.746609039618981e-18)\n",
      "--------------iteration 1 ----------------\n",
      "selected ['lnchprg']\n",
      "unselected: ['enroll', 'salary', 'lenroll', 'lsalary', 'benefits', 'totcomp', 'lexpend', 'staff', 'ltotcomp', 'lstaff', 'gradrate', 'sci11', 'bensal', 'expend', 'droprate']\n",
      "gradrate : 0.007008764108634065\n",
      "select: gradrate\n",
      "curr_p {'lnchprg': 2.8356059825772488e-14, 'gradrate': 0.007008764108634065}\n",
      "curr_max_p ('gradrate', 0.007008764108634065)\n",
      "--------------iteration 2 ----------------\n",
      "selected ['lnchprg', 'gradrate']\n",
      "unselected: ['enroll', 'salary', 'lenroll', 'lsalary', 'benefits', 'totcomp', 'lexpend', 'staff', 'ltotcomp', 'lstaff', 'sci11', 'bensal', 'expend', 'droprate']\n",
      "expend : 0.014688604564107706\n",
      "select: expend\n",
      "curr_p {'lnchprg': 1.211620190364836e-12, 'gradrate': 0.005372498864408973, 'expend': 0.014688604564107706}\n",
      "curr_max_p ('expend', 0.014688604564107706)\n",
      "--------------iteration 3 ----------------\n",
      "selected ['lnchprg', 'gradrate', 'expend']\n",
      "unselected: ['enroll', 'salary', 'lenroll', 'lsalary', 'benefits', 'totcomp', 'lexpend', 'staff', 'ltotcomp', 'lstaff', 'sci11', 'bensal', 'droprate']\n",
      "lexpend : 0.022123090455700246\n",
      "select: lexpend\n",
      "curr_p {'lnchprg': 4.3455187700461716e-13, 'gradrate': 0.005775184974566543, 'expend': 0.011527862001249297, 'lexpend': 0.022123090455700246}\n",
      "curr_max_p ('lexpend', 0.022123090455700246)\n",
      "--------------iteration 4 ----------------\n",
      "selected ['lnchprg', 'gradrate', 'expend', 'lexpend']\n",
      "unselected: ['benefits', 'totcomp', 'staff', 'enroll', 'salary', 'lenroll', 'ltotcomp', 'lstaff', 'sci11', 'bensal', 'lsalary', 'droprate']\n",
      "lenroll : 0.07731559055328079\n",
      "do not select: lenroll\n",
      "curr_p {'lnchprg': 4.3455187700461716e-13, 'gradrate': 0.005775184974566543, 'expend': 0.011527862001249297, 'lexpend': 0.022123090455700246}\n",
      "curr_max_p ('lexpend', 0.022123090455700246)\n",
      "--------------    end    ----------------\n",
      "                            OLS Regression Results                            \n",
      "==============================================================================\n",
      "Dep. Variable:                 math10   R-squared:                       0.208\n",
      "Model:                            OLS   Adj. R-squared:                  0.200\n",
      "Method:                 Least Squares   F-statistic:                     26.47\n",
      "Date:                Tue, 25 May 2021   Prob (F-statistic):           1.64e-19\n",
      "Time:                        06:04:46   Log-Likelihood:                -1489.9\n",
      "No. Observations:                 408   AIC:                             2990.\n",
      "Df Residuals:                     403   BIC:                             3010.\n",
      "Df Model:                           4                                         \n",
      "Covariance Type:            nonrobust                                         \n",
      "==============================================================================\n",
      "                 coef    std err          t      P>|t|      [0.025      0.975]\n",
      "------------------------------------------------------------------------------\n",
      "const        505.1638    213.124      2.370      0.018      86.190     924.137\n",
      "lnchprg       -0.2753      0.037     -7.492      0.000      -0.348      -0.203\n",
      "gradrate       0.1019      0.037      2.775      0.006       0.030       0.174\n",
      "expend         0.0151      0.006      2.538      0.012       0.003       0.027\n",
      "lexpend      -65.5574     28.539     -2.297      0.022    -121.661      -9.454\n",
      "==============================================================================\n",
      "Omnibus:                       44.814   Durbin-Watson:                   1.942\n",
      "Prob(Omnibus):                  0.000   Jarque-Bera (JB):               65.146\n",
      "Skew:                           0.746   Prob(JB):                     7.14e-15\n",
      "Kurtosis:                       4.268   Cond. No.                     2.06e+06\n",
      "==============================================================================\n",
      "\n",
      "Warnings:\n",
      "[1] Standard Errors assume that the covariance matrix of the errors is correctly specified.\n",
      "[2] The condition number is large, 2.06e+06. This might indicate that there are\n",
      "strong multicollinearity or other numerical problems.\n"
     ]
    }
   ],
   "source": [
    "print(regression(df[stepwise_regression(df,math10,0.05)],math10).summary())"
   ]
  },
  {
   "cell_type": "code",
   "execution_count": null,
   "metadata": {},
   "outputs": [],
   "source": []
  }
 ],
 "metadata": {
  "kernelspec": {
   "display_name": "Python 3",
   "language": "python",
   "name": "python3"
  },
  "language_info": {
   "codemirror_mode": {
    "name": "ipython",
    "version": 3
   },
   "file_extension": ".py",
   "mimetype": "text/x-python",
   "name": "python",
   "nbconvert_exporter": "python",
   "pygments_lexer": "ipython3",
   "version": "3.7.4"
  },
  "latex_envs": {
   "LaTeX_envs_menu_present": true,
   "autoclose": false,
   "autocomplete": true,
   "bibliofile": "biblio.bib",
   "cite_by": "apalike",
   "current_citInitial": 1,
   "eqLabelWithNumbers": true,
   "eqNumInitial": 1,
   "hotkeys": {
    "equation": "Ctrl-E",
    "itemize": "Ctrl-I"
   },
   "labels_anchors": false,
   "latex_user_defs": false,
   "report_style_numbering": false,
   "user_envs_cfg": false
  }
 },
 "nbformat": 4,
 "nbformat_minor": 2
}
