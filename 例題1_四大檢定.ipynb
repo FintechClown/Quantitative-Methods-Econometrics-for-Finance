{
 "cells": [
  {
   "cell_type": "markdown",
   "metadata": {},
   "source": [
    "# 四大基本檢定問題 - 平均值與變異數檢定"
   ]
  },
  {
   "cell_type": "markdown",
   "metadata": {},
   "source": [
    "## 載入套件"
   ]
  },
  {
   "cell_type": "code",
   "execution_count": 1,
   "metadata": {},
   "outputs": [],
   "source": [
    "import pandas as pd"
   ]
  },
  {
   "cell_type": "code",
   "execution_count": 2,
   "metadata": {},
   "outputs": [],
   "source": [
    "import numpy as py"
   ]
  },
  {
   "cell_type": "code",
   "execution_count": 3,
   "metadata": {},
   "outputs": [],
   "source": [
    "from scipy import stats"
   ]
  },
  {
   "cell_type": "markdown",
   "metadata": {},
   "source": [
    "### 例題一"
   ]
  },
  {
   "cell_type": "markdown",
   "metadata": {},
   "source": [
    "* 銀行經理懷疑客戶平均等候時間大於 10 分鐘\n",
    "* 僅抽取 9 位客戶 (算是小樣本)，故在母體為常態分配的假設 (此為 t 檢定前提)\n",
    "* 銀行經理隨機抽取 9 位客戶，並記錄客戶的等候時間如下:\n",
    "* 9.8,7.4,8.3,12.5,10.2,13.2,15.0,12.0,12.3\n",
    "* 設定顯著水準 α = 0.05。(傳統法才需先決定 α，p-value 法則不用)"
   ]
  },
  {
   "cell_type": "markdown",
   "metadata": {},
   "source": [
    "### 檢定五步驟"
   ]
  },
  {
   "cell_type": "markdown",
   "metadata": {},
   "source": [
    "### 1.設立假說\n",
    "$H_0 : µ = 10 \\mid ( µ ≤ 10)$ <br><br/>\n",
    "$H_1 : µ > 10$"
   ]
  },
  {
   "cell_type": "markdown",
   "metadata": {},
   "source": [
    "### 2. 選擇檢定統計量\n",
    "## $t = \\frac{\\bar{x} - 10}{\\frac{S}{\\sqrt 9}} \\sim t_{(8)}$"
   ]
  },
  {
   "cell_type": "markdown",
   "metadata": {},
   "source": [
    "### 3.設立拒絕域 (rejection rule)\n"
   ]
  },
  {
   "cell_type": "markdown",
   "metadata": {},
   "source": [
    "$ R=\\{ t\\mid t > 1.860 \\} $ <br><br/>\n",
    "$ α = 0.05 \\Rightarrow t = 1.860$"
   ]
  },
  {
   "cell_type": "markdown",
   "metadata": {},
   "source": [
    "### 4.計算"
   ]
  },
  {
   "cell_type": "markdown",
   "metadata": {},
   "source": [
    "##### 匯入資料"
   ]
  },
  {
   "cell_type": "code",
   "execution_count": 4,
   "metadata": {},
   "outputs": [],
   "source": [
    "data = [9.8,7.4,8.3,12.5,10.2,13.2,15.0,12.0,12.3]"
   ]
  },
  {
   "cell_type": "markdown",
   "metadata": {},
   "source": [
    "##### 使用scipy裡的stats.T test函式，( 資料,虛無假設,單尾 greater、less | 雙尾  two-sided )"
   ]
  },
  {
   "cell_type": "code",
   "execution_count": 5,
   "metadata": {},
   "outputs": [
    {
     "data": {
      "text/plain": [
       "Ttest_1sampResult(statistic=1.459298210492694, pvalue=0.09130152865589224)"
      ]
     },
     "execution_count": 5,
     "metadata": {},
     "output_type": "execute_result"
    }
   ],
   "source": [
    "stats.ttest_1samp(data,10,alternative=\"greater\")"
   ]
  },
  {
   "cell_type": "markdown",
   "metadata": {},
   "source": [
    "### 5.結論"
   ]
  },
  {
   "cell_type": "markdown",
   "metadata": {},
   "source": [
    "$ p \\ value = 0.09 > \\alpha = 0.05 $ "
   ]
  },
  {
   "cell_type": "markdown",
   "metadata": {},
   "source": [
    "在0.05顯著水準下，證據不足以證明平均等候時間大於10分鐘"
   ]
  }
 ],
 "metadata": {
  "kernelspec": {
   "display_name": "Python 3",
   "language": "python",
   "name": "python3"
  },
  "language_info": {
   "codemirror_mode": {
    "name": "ipython",
    "version": 3
   },
   "file_extension": ".py",
   "mimetype": "text/x-python",
   "name": "python",
   "nbconvert_exporter": "python",
   "pygments_lexer": "ipython3",
   "version": "3.7.4"
  }
 },
 "nbformat": 4,
 "nbformat_minor": 2
}
